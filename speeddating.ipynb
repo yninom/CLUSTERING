{
 "cells": [
  {
   "attachments": {},
   "cell_type": "markdown",
   "metadata": {},
   "source": [
    "# Speed Dating Dataset"
   ]
  },
  {
   "attachments": {},
   "cell_type": "markdown",
   "metadata": {},
   "source": [
    "This data was gathered from participants in experimental speed dating events from 2002-2004. During the events, the attendees would have a four-minute \"first date\" with every other participant of the opposite sex. At the end of their four minutes, participants were asked if they would like to see their date again. They were also asked to rate their date on six attributes: Attractiveness, Sincerity, Intelligence, Fun, Ambition, and Shared Interests. The dataset also includes questionnaire data gathered from participants at different points in the process. These fields include: demographics, dating habits, self-perception across key attributes, beliefs on what others find valuable in a mate, and lifestyle information.\n",
    "\n",
    "There are 122 columns(independent variables) in the dataset, match column(dependent variable) needs to be predicted."
   ]
  },
  {
   "cell_type": "code",
   "execution_count": 2,
   "metadata": {},
   "outputs": [
    {
     "data": {
      "text/html": [
       "<div>\n",
       "<style scoped>\n",
       "    .dataframe tbody tr th:only-of-type {\n",
       "        vertical-align: middle;\n",
       "    }\n",
       "\n",
       "    .dataframe tbody tr th {\n",
       "        vertical-align: top;\n",
       "    }\n",
       "\n",
       "    .dataframe thead th {\n",
       "        text-align: right;\n",
       "    }\n",
       "</style>\n",
       "<table border=\"1\" class=\"dataframe\">\n",
       "  <thead>\n",
       "    <tr style=\"text-align: right;\">\n",
       "      <th></th>\n",
       "      <th>has_null</th>\n",
       "      <th>wave</th>\n",
       "      <th>gender</th>\n",
       "      <th>age</th>\n",
       "      <th>age_o</th>\n",
       "      <th>d_age</th>\n",
       "      <th>d_d_age</th>\n",
       "      <th>race</th>\n",
       "      <th>race_o</th>\n",
       "      <th>samerace</th>\n",
       "      <th>...</th>\n",
       "      <th>d_expected_num_interested_in_me</th>\n",
       "      <th>d_expected_num_matches</th>\n",
       "      <th>like</th>\n",
       "      <th>guess_prob_liked</th>\n",
       "      <th>d_like</th>\n",
       "      <th>d_guess_prob_liked</th>\n",
       "      <th>met</th>\n",
       "      <th>decision</th>\n",
       "      <th>decision_o</th>\n",
       "      <th>match</th>\n",
       "    </tr>\n",
       "  </thead>\n",
       "  <tbody>\n",
       "    <tr>\n",
       "      <th>0</th>\n",
       "      <td>b''</td>\n",
       "      <td>1.0</td>\n",
       "      <td>b'female'</td>\n",
       "      <td>21.0</td>\n",
       "      <td>27.0</td>\n",
       "      <td>6.0</td>\n",
       "      <td>b'[4-6]'</td>\n",
       "      <td>b'Asian/Pacific Islander/Asian-American'</td>\n",
       "      <td>b'European/Caucasian-American'</td>\n",
       "      <td>b'0'</td>\n",
       "      <td>...</td>\n",
       "      <td>b'[0-3]'</td>\n",
       "      <td>b'[3-5]'</td>\n",
       "      <td>7.0</td>\n",
       "      <td>6.0</td>\n",
       "      <td>b'[6-8]'</td>\n",
       "      <td>b'[5-6]'</td>\n",
       "      <td>0.0</td>\n",
       "      <td>b'1'</td>\n",
       "      <td>b'0'</td>\n",
       "      <td>b'0'</td>\n",
       "    </tr>\n",
       "    <tr>\n",
       "      <th>1</th>\n",
       "      <td>b''</td>\n",
       "      <td>1.0</td>\n",
       "      <td>b'female'</td>\n",
       "      <td>21.0</td>\n",
       "      <td>22.0</td>\n",
       "      <td>1.0</td>\n",
       "      <td>b'[0-1]'</td>\n",
       "      <td>b'Asian/Pacific Islander/Asian-American'</td>\n",
       "      <td>b'European/Caucasian-American'</td>\n",
       "      <td>b'0'</td>\n",
       "      <td>...</td>\n",
       "      <td>b'[0-3]'</td>\n",
       "      <td>b'[3-5]'</td>\n",
       "      <td>7.0</td>\n",
       "      <td>5.0</td>\n",
       "      <td>b'[6-8]'</td>\n",
       "      <td>b'[5-6]'</td>\n",
       "      <td>1.0</td>\n",
       "      <td>b'1'</td>\n",
       "      <td>b'0'</td>\n",
       "      <td>b'0'</td>\n",
       "    </tr>\n",
       "    <tr>\n",
       "      <th>2</th>\n",
       "      <td>b''</td>\n",
       "      <td>1.0</td>\n",
       "      <td>b'female'</td>\n",
       "      <td>21.0</td>\n",
       "      <td>22.0</td>\n",
       "      <td>1.0</td>\n",
       "      <td>b'[0-1]'</td>\n",
       "      <td>b'Asian/Pacific Islander/Asian-American'</td>\n",
       "      <td>b'Asian/Pacific Islander/Asian-American'</td>\n",
       "      <td>b'1'</td>\n",
       "      <td>...</td>\n",
       "      <td>b'[0-3]'</td>\n",
       "      <td>b'[3-5]'</td>\n",
       "      <td>7.0</td>\n",
       "      <td>NaN</td>\n",
       "      <td>b'[6-8]'</td>\n",
       "      <td>b'[0-4]'</td>\n",
       "      <td>1.0</td>\n",
       "      <td>b'1'</td>\n",
       "      <td>b'1'</td>\n",
       "      <td>b'1'</td>\n",
       "    </tr>\n",
       "    <tr>\n",
       "      <th>3</th>\n",
       "      <td>b''</td>\n",
       "      <td>1.0</td>\n",
       "      <td>b'female'</td>\n",
       "      <td>21.0</td>\n",
       "      <td>23.0</td>\n",
       "      <td>2.0</td>\n",
       "      <td>b'[2-3]'</td>\n",
       "      <td>b'Asian/Pacific Islander/Asian-American'</td>\n",
       "      <td>b'European/Caucasian-American'</td>\n",
       "      <td>b'0'</td>\n",
       "      <td>...</td>\n",
       "      <td>b'[0-3]'</td>\n",
       "      <td>b'[3-5]'</td>\n",
       "      <td>7.0</td>\n",
       "      <td>6.0</td>\n",
       "      <td>b'[6-8]'</td>\n",
       "      <td>b'[5-6]'</td>\n",
       "      <td>0.0</td>\n",
       "      <td>b'1'</td>\n",
       "      <td>b'1'</td>\n",
       "      <td>b'1'</td>\n",
       "    </tr>\n",
       "    <tr>\n",
       "      <th>4</th>\n",
       "      <td>b''</td>\n",
       "      <td>1.0</td>\n",
       "      <td>b'female'</td>\n",
       "      <td>21.0</td>\n",
       "      <td>24.0</td>\n",
       "      <td>3.0</td>\n",
       "      <td>b'[2-3]'</td>\n",
       "      <td>b'Asian/Pacific Islander/Asian-American'</td>\n",
       "      <td>b'Latino/Hispanic American'</td>\n",
       "      <td>b'0'</td>\n",
       "      <td>...</td>\n",
       "      <td>b'[0-3]'</td>\n",
       "      <td>b'[3-5]'</td>\n",
       "      <td>6.0</td>\n",
       "      <td>6.0</td>\n",
       "      <td>b'[6-8]'</td>\n",
       "      <td>b'[5-6]'</td>\n",
       "      <td>0.0</td>\n",
       "      <td>b'1'</td>\n",
       "      <td>b'1'</td>\n",
       "      <td>b'1'</td>\n",
       "    </tr>\n",
       "  </tbody>\n",
       "</table>\n",
       "<p>5 rows × 123 columns</p>\n",
       "</div>"
      ],
      "text/plain": [
       "  has_null  wave     gender   age  age_o  d_age   d_d_age  \\\n",
       "0      b''   1.0  b'female'  21.0   27.0    6.0  b'[4-6]'   \n",
       "1      b''   1.0  b'female'  21.0   22.0    1.0  b'[0-1]'   \n",
       "2      b''   1.0  b'female'  21.0   22.0    1.0  b'[0-1]'   \n",
       "3      b''   1.0  b'female'  21.0   23.0    2.0  b'[2-3]'   \n",
       "4      b''   1.0  b'female'  21.0   24.0    3.0  b'[2-3]'   \n",
       "\n",
       "                                       race  \\\n",
       "0  b'Asian/Pacific Islander/Asian-American'   \n",
       "1  b'Asian/Pacific Islander/Asian-American'   \n",
       "2  b'Asian/Pacific Islander/Asian-American'   \n",
       "3  b'Asian/Pacific Islander/Asian-American'   \n",
       "4  b'Asian/Pacific Islander/Asian-American'   \n",
       "\n",
       "                                     race_o samerace  ...  \\\n",
       "0            b'European/Caucasian-American'     b'0'  ...   \n",
       "1            b'European/Caucasian-American'     b'0'  ...   \n",
       "2  b'Asian/Pacific Islander/Asian-American'     b'1'  ...   \n",
       "3            b'European/Caucasian-American'     b'0'  ...   \n",
       "4               b'Latino/Hispanic American'     b'0'  ...   \n",
       "\n",
       "   d_expected_num_interested_in_me  d_expected_num_matches like  \\\n",
       "0                         b'[0-3]'                b'[3-5]'  7.0   \n",
       "1                         b'[0-3]'                b'[3-5]'  7.0   \n",
       "2                         b'[0-3]'                b'[3-5]'  7.0   \n",
       "3                         b'[0-3]'                b'[3-5]'  7.0   \n",
       "4                         b'[0-3]'                b'[3-5]'  6.0   \n",
       "\n",
       "  guess_prob_liked    d_like  d_guess_prob_liked  met  decision  decision_o  \\\n",
       "0              6.0  b'[6-8]'            b'[5-6]'  0.0      b'1'        b'0'   \n",
       "1              5.0  b'[6-8]'            b'[5-6]'  1.0      b'1'        b'0'   \n",
       "2              NaN  b'[6-8]'            b'[0-4]'  1.0      b'1'        b'1'   \n",
       "3              6.0  b'[6-8]'            b'[5-6]'  0.0      b'1'        b'1'   \n",
       "4              6.0  b'[6-8]'            b'[5-6]'  0.0      b'1'        b'1'   \n",
       "\n",
       "   match  \n",
       "0   b'0'  \n",
       "1   b'0'  \n",
       "2   b'1'  \n",
       "3   b'1'  \n",
       "4   b'1'  \n",
       "\n",
       "[5 rows x 123 columns]"
      ]
     },
     "execution_count": 2,
     "metadata": {},
     "output_type": "execute_result"
    }
   ],
   "source": [
    "import pandas as pd\n",
    "import seaborn as sns\n",
    "import warnings\n",
    "warnings.filterwarnings('ignore')\n",
    "\n",
    "dating = pd.read_csv('speeddating.csv')\n",
    "dating.head()"
   ]
  },
  {
   "attachments": {},
   "cell_type": "markdown",
   "metadata": {},
   "source": [
    "## Columns description"
   ]
  },
  {
   "attachments": {},
   "cell_type": "markdown",
   "metadata": {},
   "source": [
    "Variable: Description\n",
    "\n",
    "gender: Gender of self\n",
    "\n",
    "age: Age of self\n",
    "\n",
    "age_o: Age of partner\n",
    "\n",
    "d_age: Difference in age\n",
    "\n",
    "d_age: Difference in age\n",
    "\n",
    "race: Race of self\n",
    "\n",
    "race_o: Race of partner\n",
    "\n",
    "samerace: Whether the two persons have the same race or not.\n",
    "\n",
    "importance_same_race: How important is it that partner is of same race?\n",
    "\n",
    "importance_same_religion: How important is it that partner has same religion?\n",
    "\n",
    "field: Field of study\n",
    "\n",
    "pref_o_attractive: How important does partner rate attractiveness\n",
    "\n",
    "pref_o_sinsere: How important does partner rate sincerity\n",
    "\n",
    "pref_o_intelligence: How important does partner rate intelligence\n",
    "\n",
    "pref_o_funny: How important does partner rate being funny\n",
    "\n",
    "pref_o_ambitious: How important does partner rate ambition\n",
    "\n",
    "pref_o_shared_interests: How important does partner rate having shared interests\n",
    "\n",
    "attractive_o: Rating by partner (about me) at night of event on attractiveness\n",
    "\n",
    "sincere_o: Rating by partner (about me) at night of event on sincerity\n",
    "\n",
    "intelligence_o: Rating by partner (about me) at night of event on intelligence\n",
    "\n",
    "funny_o: Rating by partner (about me) at night of event on being funny\n",
    "\n",
    "ambitous_o: Rating by partner (about me) at night of event on being ambitious\n",
    "\n",
    "shared_interests_o: Rating by partner (about me) at night of event on shared interest\n",
    "\n",
    "attractive_important: What do you look for in a partner - attractiveness\n",
    "\n",
    "sincere_important: What do you look for in a partner - sincerity\n",
    "\n",
    "intellicence_important: What do you look for in a partner - intelligence\n",
    "\n",
    "funny_important: What do you look for in a partner - being funny\n",
    "\n",
    "ambtition_important: What do you look for in a partner - ambition\n",
    "\n",
    "shared_interests_important: What do you look for in a partner - shared interests\n",
    "\n",
    "attractive: Rate yourself - attractiveness\n",
    "\n",
    "sincere: Rate yourself - sincerity\n",
    "\n",
    "intelligence: Rate yourself - intelligence\n",
    "\n",
    "funny: Rate yourself - being funny\n",
    "\n",
    "ambition: Rate yourself - ambition\n",
    "\n",
    "attractive_partner: Rate your partner - attractiveness\n",
    "\n",
    "sincere_partner: Rate your partner - sincerity\n",
    "\n",
    "intelligence_partner: Rate your partner - intelligence\n",
    "\n",
    "funny_partner: Rate your partner - being funny\n",
    "\n",
    "ambition_partner: Rate your partner - ambition\n",
    "\n",
    "shared_interests_partner: Rate your partner - shared interests\n",
    "\n",
    "sports: Your own interests [1-10]\n",
    "\n",
    "interests_correlate: Correlation between participant’s and partner’s ratings of interests.\n",
    "\n",
    "expected_happy_with_sd_people: How happy do you expect to be with the people you meet during the speed-dating \n",
    "event?\n",
    "\n",
    "expected_num_interested_in_me: Out of the 20 people you will meet, how many do you expect will be interested in dating you?\n",
    "\n",
    "expected_num_matches: How many matches do you expect to get?\n",
    "\n",
    "like: Did you like your partner?\n",
    "\n",
    "guess_prob_liked: How likely do you think it is that your partner likes you?\n",
    "\n",
    "met: Have you met your partner before?\n",
    "\n",
    "decision: Decision at night of event.\n",
    "\n",
    "decision_o: Decision of partner at night of event.\n",
    "\n",
    "match: Match (yes/no)"
   ]
  },
  {
   "attachments": {},
   "cell_type": "markdown",
   "metadata": {},
   "source": [
    "## Data Cleaning"
   ]
  },
  {
   "cell_type": "code",
   "execution_count": 3,
   "metadata": {},
   "outputs": [
    {
     "name": "stdout",
     "output_type": "stream",
     "text": [
      "<class 'pandas.core.frame.DataFrame'>\n",
      "RangeIndex: 8378 entries, 0 to 8377\n",
      "Columns: 123 entries, has_null to match\n",
      "dtypes: float64(59), object(64)\n",
      "memory usage: 7.9+ MB\n"
     ]
    }
   ],
   "source": [
    "dating.info()"
   ]
  },
  {
   "cell_type": "code",
   "execution_count": 4,
   "metadata": {},
   "outputs": [
    {
     "data": {
      "text/plain": [
       "(8378, 123)"
      ]
     },
     "execution_count": 4,
     "metadata": {},
     "output_type": "execute_result"
    }
   ],
   "source": [
    "dating.shape"
   ]
  },
  {
   "cell_type": "code",
   "execution_count": 5,
   "metadata": {},
   "outputs": [
    {
     "data": {
      "text/plain": [
       "object     64\n",
       "float64    59\n",
       "dtype: int64"
      ]
     },
     "execution_count": 5,
     "metadata": {},
     "output_type": "execute_result"
    }
   ],
   "source": [
    "#data types in the features\n",
    "dating.dtypes.value_counts()"
   ]
  },
  {
   "cell_type": "code",
   "execution_count": 6,
   "metadata": {},
   "outputs": [
    {
     "data": {
      "text/plain": [
       "has_null                        1\n",
       "decision                        2\n",
       "decision_o                      2\n",
       "samerace                        2\n",
       "match                           2\n",
       "                             ... \n",
       "shared_interests_important     85\n",
       "attractive_important           94\n",
       "pref_o_attractive              94\n",
       "interests_correlate           155\n",
       "field                         260\n",
       "Length: 123, dtype: int64"
      ]
     },
     "execution_count": 6,
     "metadata": {},
     "output_type": "execute_result"
    }
   ],
   "source": [
    "#looking for columns with unique values\n",
    "dating.nunique().sort_values()"
   ]
  },
  {
   "cell_type": "code",
   "execution_count": 7,
   "metadata": {},
   "outputs": [],
   "source": [
    "#drop the column has_null because it has only one value for all the rows\n",
    "dating.drop(['has_null'], axis = 1, inplace= True)"
   ]
  },
  {
   "cell_type": "code",
   "execution_count": 8,
   "metadata": {},
   "outputs": [],
   "source": [
    "#create a function that removes all the unwanted characters b', ''\n",
    "def remove_characters(feature):\n",
    "    return feature.replace(\"b'\",'').replace(\"'\",\"\")\n",
    "\n",
    "#select string columns\n",
    "string_dataset = dating.select_dtypes(include = ['object'])\n",
    "\n",
    "#remove the characters\n",
    "for feature in string_dataset.columns:\n",
    "    dating[feature] = dating[feature].apply(lambda x: remove_characters(x))"
   ]
  },
  {
   "cell_type": "code",
   "execution_count": 9,
   "metadata": {},
   "outputs": [],
   "source": [
    "#the columns with the prefix d_ are the values of other columns but binned\n",
    "to_drop = [column_name for column_name in dating.columns if column_name.startswith('d_')]\n",
    "dating.drop(to_drop, axis = 1, inplace = True)"
   ]
  },
  {
   "cell_type": "code",
   "execution_count": 10,
   "metadata": {},
   "outputs": [
    {
     "data": {
      "text/plain": [
       "(8378, 66)"
      ]
     },
     "execution_count": 10,
     "metadata": {},
     "output_type": "execute_result"
    }
   ],
   "source": [
    "dating.shape"
   ]
  },
  {
   "cell_type": "code",
   "execution_count": 11,
   "metadata": {},
   "outputs": [],
   "source": [
    "#decision and decision_o at night event are basically the same as match, match it is calculated from them\n",
    "dating.drop(['decision', 'decision_o'], axis = 1, inplace= True)"
   ]
  },
  {
   "cell_type": "code",
   "execution_count": 12,
   "metadata": {},
   "outputs": [
    {
     "data": {
      "text/html": [
       "<div>\n",
       "<style scoped>\n",
       "    .dataframe tbody tr th:only-of-type {\n",
       "        vertical-align: middle;\n",
       "    }\n",
       "\n",
       "    .dataframe tbody tr th {\n",
       "        vertical-align: top;\n",
       "    }\n",
       "\n",
       "    .dataframe thead th {\n",
       "        text-align: right;\n",
       "    }\n",
       "</style>\n",
       "<table border=\"1\" class=\"dataframe\">\n",
       "  <thead>\n",
       "    <tr style=\"text-align: right;\">\n",
       "      <th></th>\n",
       "      <th>wave</th>\n",
       "      <th>gender</th>\n",
       "      <th>age</th>\n",
       "      <th>age_o</th>\n",
       "      <th>race</th>\n",
       "      <th>race_o</th>\n",
       "      <th>samerace</th>\n",
       "      <th>importance_same_race</th>\n",
       "      <th>importance_same_religion</th>\n",
       "      <th>field</th>\n",
       "      <th>...</th>\n",
       "      <th>shopping</th>\n",
       "      <th>yoga</th>\n",
       "      <th>interests_correlate</th>\n",
       "      <th>expected_happy_with_sd_people</th>\n",
       "      <th>expected_num_interested_in_me</th>\n",
       "      <th>expected_num_matches</th>\n",
       "      <th>like</th>\n",
       "      <th>guess_prob_liked</th>\n",
       "      <th>met</th>\n",
       "      <th>match</th>\n",
       "    </tr>\n",
       "  </thead>\n",
       "  <tbody>\n",
       "    <tr>\n",
       "      <th>0</th>\n",
       "      <td>1.0</td>\n",
       "      <td>female</td>\n",
       "      <td>21.0</td>\n",
       "      <td>27.0</td>\n",
       "      <td>Asian/Pacific Islander/Asian-American</td>\n",
       "      <td>European/Caucasian-American</td>\n",
       "      <td>0</td>\n",
       "      <td>2.0</td>\n",
       "      <td>4.0</td>\n",
       "      <td>Law</td>\n",
       "      <td>...</td>\n",
       "      <td>8.0</td>\n",
       "      <td>1.0</td>\n",
       "      <td>0.14</td>\n",
       "      <td>3.0</td>\n",
       "      <td>2.0</td>\n",
       "      <td>4.0</td>\n",
       "      <td>7.0</td>\n",
       "      <td>6.0</td>\n",
       "      <td>0.0</td>\n",
       "      <td>0</td>\n",
       "    </tr>\n",
       "    <tr>\n",
       "      <th>1</th>\n",
       "      <td>1.0</td>\n",
       "      <td>female</td>\n",
       "      <td>21.0</td>\n",
       "      <td>22.0</td>\n",
       "      <td>Asian/Pacific Islander/Asian-American</td>\n",
       "      <td>European/Caucasian-American</td>\n",
       "      <td>0</td>\n",
       "      <td>2.0</td>\n",
       "      <td>4.0</td>\n",
       "      <td>Law</td>\n",
       "      <td>...</td>\n",
       "      <td>8.0</td>\n",
       "      <td>1.0</td>\n",
       "      <td>0.54</td>\n",
       "      <td>3.0</td>\n",
       "      <td>2.0</td>\n",
       "      <td>4.0</td>\n",
       "      <td>7.0</td>\n",
       "      <td>5.0</td>\n",
       "      <td>1.0</td>\n",
       "      <td>0</td>\n",
       "    </tr>\n",
       "    <tr>\n",
       "      <th>2</th>\n",
       "      <td>1.0</td>\n",
       "      <td>female</td>\n",
       "      <td>21.0</td>\n",
       "      <td>22.0</td>\n",
       "      <td>Asian/Pacific Islander/Asian-American</td>\n",
       "      <td>Asian/Pacific Islander/Asian-American</td>\n",
       "      <td>1</td>\n",
       "      <td>2.0</td>\n",
       "      <td>4.0</td>\n",
       "      <td>Law</td>\n",
       "      <td>...</td>\n",
       "      <td>8.0</td>\n",
       "      <td>1.0</td>\n",
       "      <td>0.16</td>\n",
       "      <td>3.0</td>\n",
       "      <td>2.0</td>\n",
       "      <td>4.0</td>\n",
       "      <td>7.0</td>\n",
       "      <td>NaN</td>\n",
       "      <td>1.0</td>\n",
       "      <td>1</td>\n",
       "    </tr>\n",
       "    <tr>\n",
       "      <th>3</th>\n",
       "      <td>1.0</td>\n",
       "      <td>female</td>\n",
       "      <td>21.0</td>\n",
       "      <td>23.0</td>\n",
       "      <td>Asian/Pacific Islander/Asian-American</td>\n",
       "      <td>European/Caucasian-American</td>\n",
       "      <td>0</td>\n",
       "      <td>2.0</td>\n",
       "      <td>4.0</td>\n",
       "      <td>Law</td>\n",
       "      <td>...</td>\n",
       "      <td>8.0</td>\n",
       "      <td>1.0</td>\n",
       "      <td>0.61</td>\n",
       "      <td>3.0</td>\n",
       "      <td>2.0</td>\n",
       "      <td>4.0</td>\n",
       "      <td>7.0</td>\n",
       "      <td>6.0</td>\n",
       "      <td>0.0</td>\n",
       "      <td>1</td>\n",
       "    </tr>\n",
       "    <tr>\n",
       "      <th>4</th>\n",
       "      <td>1.0</td>\n",
       "      <td>female</td>\n",
       "      <td>21.0</td>\n",
       "      <td>24.0</td>\n",
       "      <td>Asian/Pacific Islander/Asian-American</td>\n",
       "      <td>Latino/Hispanic American</td>\n",
       "      <td>0</td>\n",
       "      <td>2.0</td>\n",
       "      <td>4.0</td>\n",
       "      <td>Law</td>\n",
       "      <td>...</td>\n",
       "      <td>8.0</td>\n",
       "      <td>1.0</td>\n",
       "      <td>0.21</td>\n",
       "      <td>3.0</td>\n",
       "      <td>2.0</td>\n",
       "      <td>4.0</td>\n",
       "      <td>6.0</td>\n",
       "      <td>6.0</td>\n",
       "      <td>0.0</td>\n",
       "      <td>1</td>\n",
       "    </tr>\n",
       "  </tbody>\n",
       "</table>\n",
       "<p>5 rows × 64 columns</p>\n",
       "</div>"
      ],
      "text/plain": [
       "   wave  gender   age  age_o                                   race  \\\n",
       "0   1.0  female  21.0   27.0  Asian/Pacific Islander/Asian-American   \n",
       "1   1.0  female  21.0   22.0  Asian/Pacific Islander/Asian-American   \n",
       "2   1.0  female  21.0   22.0  Asian/Pacific Islander/Asian-American   \n",
       "3   1.0  female  21.0   23.0  Asian/Pacific Islander/Asian-American   \n",
       "4   1.0  female  21.0   24.0  Asian/Pacific Islander/Asian-American   \n",
       "\n",
       "                                  race_o samerace  importance_same_race  \\\n",
       "0            European/Caucasian-American        0                   2.0   \n",
       "1            European/Caucasian-American        0                   2.0   \n",
       "2  Asian/Pacific Islander/Asian-American        1                   2.0   \n",
       "3            European/Caucasian-American        0                   2.0   \n",
       "4               Latino/Hispanic American        0                   2.0   \n",
       "\n",
       "   importance_same_religion field  ...  shopping  yoga  interests_correlate  \\\n",
       "0                       4.0   Law  ...       8.0   1.0                 0.14   \n",
       "1                       4.0   Law  ...       8.0   1.0                 0.54   \n",
       "2                       4.0   Law  ...       8.0   1.0                 0.16   \n",
       "3                       4.0   Law  ...       8.0   1.0                 0.61   \n",
       "4                       4.0   Law  ...       8.0   1.0                 0.21   \n",
       "\n",
       "   expected_happy_with_sd_people  expected_num_interested_in_me  \\\n",
       "0                            3.0                            2.0   \n",
       "1                            3.0                            2.0   \n",
       "2                            3.0                            2.0   \n",
       "3                            3.0                            2.0   \n",
       "4                            3.0                            2.0   \n",
       "\n",
       "   expected_num_matches  like  guess_prob_liked  met  match  \n",
       "0                   4.0   7.0               6.0  0.0      0  \n",
       "1                   4.0   7.0               5.0  1.0      0  \n",
       "2                   4.0   7.0               NaN  1.0      1  \n",
       "3                   4.0   7.0               6.0  0.0      1  \n",
       "4                   4.0   6.0               6.0  0.0      1  \n",
       "\n",
       "[5 rows x 64 columns]"
      ]
     },
     "execution_count": 12,
     "metadata": {},
     "output_type": "execute_result"
    }
   ],
   "source": [
    "dating.head()"
   ]
  },
  {
   "cell_type": "code",
   "execution_count": 13,
   "metadata": {},
   "outputs": [],
   "source": [
    "missing_columns = dating.isnull().sum().sort_values()"
   ]
  },
  {
   "cell_type": "code",
   "execution_count": 14,
   "metadata": {},
   "outputs": [],
   "source": [
    "#drop the columns that have more than the 5% of missing values\n",
    "dating.drop(['expected_num_interested_in_me', 'expected_num_matches', 'shared_interests_o',\n",
    "             'shared_interests_partner', 'ambitous_o', 'ambition_partner'], axis = 1, inplace= True)"
   ]
  },
  {
   "cell_type": "code",
   "execution_count": 15,
   "metadata": {},
   "outputs": [],
   "source": [
    "#There's to columns of age, from self and o, we can get just one age column from diff = self - o\n",
    "dating['age_diff'] = dating['age'] - dating['age_o']\n",
    "dating.drop(['age','age_o'], axis = 1, inplace = True)"
   ]
  },
  {
   "cell_type": "code",
   "execution_count": 16,
   "metadata": {},
   "outputs": [
    {
     "data": {
      "text/plain": [
       "0.0    7644\n",
       "1.0     351\n",
       "7.0       3\n",
       "5.0       2\n",
       "3.0       1\n",
       "8.0       1\n",
       "6.0       1\n",
       "Name: met, dtype: int64"
      ]
     },
     "execution_count": 16,
     "metadata": {},
     "output_type": "execute_result"
    }
   ],
   "source": [
    "#if they had met the partner before, yes or no (1 or 0)\n",
    "dating['met'].value_counts()"
   ]
  },
  {
   "cell_type": "code",
   "execution_count": 17,
   "metadata": {},
   "outputs": [],
   "source": [
    "#I change the few different values for the mode that is 0\n",
    "for number in [3.0, 5.0, 6.0, 7.0, 8.0]:\n",
    "    dating['met'].replace(number,0, inplace =True)"
   ]
  },
  {
   "cell_type": "code",
   "execution_count": 18,
   "metadata": {},
   "outputs": [
    {
     "data": {
      "text/plain": [
       "0.0    7652\n",
       "1.0     351\n",
       "Name: met, dtype: int64"
      ]
     },
     "execution_count": 18,
     "metadata": {},
     "output_type": "execute_result"
    }
   ],
   "source": [
    "dating['met'].value_counts()"
   ]
  },
  {
   "cell_type": "code",
   "execution_count": 19,
   "metadata": {},
   "outputs": [],
   "source": [
    "#field has many different categorical values, when I convert this column into a numeric one, it sums more than 200 columns\n",
    "dating.drop(['field'], axis = 1, inplace = True)"
   ]
  },
  {
   "cell_type": "code",
   "execution_count": 20,
   "metadata": {},
   "outputs": [
    {
     "data": {
      "text/plain": [
       "(8378, 56)"
      ]
     },
     "execution_count": 20,
     "metadata": {},
     "output_type": "execute_result"
    }
   ],
   "source": [
    "dating.shape"
   ]
  },
  {
   "cell_type": "code",
   "execution_count": 21,
   "metadata": {},
   "outputs": [
    {
     "data": {
      "text/html": [
       "<div>\n",
       "<style scoped>\n",
       "    .dataframe tbody tr th:only-of-type {\n",
       "        vertical-align: middle;\n",
       "    }\n",
       "\n",
       "    .dataframe tbody tr th {\n",
       "        vertical-align: top;\n",
       "    }\n",
       "\n",
       "    .dataframe thead th {\n",
       "        text-align: right;\n",
       "    }\n",
       "</style>\n",
       "<table border=\"1\" class=\"dataframe\">\n",
       "  <thead>\n",
       "    <tr style=\"text-align: right;\">\n",
       "      <th></th>\n",
       "      <th>wave</th>\n",
       "      <th>gender</th>\n",
       "      <th>race</th>\n",
       "      <th>race_o</th>\n",
       "      <th>samerace</th>\n",
       "      <th>importance_same_race</th>\n",
       "      <th>importance_same_religion</th>\n",
       "      <th>pref_o_attractive</th>\n",
       "      <th>pref_o_sincere</th>\n",
       "      <th>pref_o_intelligence</th>\n",
       "      <th>...</th>\n",
       "      <th>music</th>\n",
       "      <th>shopping</th>\n",
       "      <th>yoga</th>\n",
       "      <th>interests_correlate</th>\n",
       "      <th>expected_happy_with_sd_people</th>\n",
       "      <th>like</th>\n",
       "      <th>guess_prob_liked</th>\n",
       "      <th>met</th>\n",
       "      <th>match</th>\n",
       "      <th>age_diff</th>\n",
       "    </tr>\n",
       "  </thead>\n",
       "  <tbody>\n",
       "    <tr>\n",
       "      <th>0</th>\n",
       "      <td>1.0</td>\n",
       "      <td>female</td>\n",
       "      <td>Asian/Pacific Islander/Asian-American</td>\n",
       "      <td>European/Caucasian-American</td>\n",
       "      <td>0</td>\n",
       "      <td>2.0</td>\n",
       "      <td>4.0</td>\n",
       "      <td>35.0</td>\n",
       "      <td>20.0</td>\n",
       "      <td>20.0</td>\n",
       "      <td>...</td>\n",
       "      <td>9.0</td>\n",
       "      <td>8.0</td>\n",
       "      <td>1.0</td>\n",
       "      <td>0.14</td>\n",
       "      <td>3.0</td>\n",
       "      <td>7.0</td>\n",
       "      <td>6.0</td>\n",
       "      <td>0.0</td>\n",
       "      <td>0</td>\n",
       "      <td>-6.0</td>\n",
       "    </tr>\n",
       "    <tr>\n",
       "      <th>1</th>\n",
       "      <td>1.0</td>\n",
       "      <td>female</td>\n",
       "      <td>Asian/Pacific Islander/Asian-American</td>\n",
       "      <td>European/Caucasian-American</td>\n",
       "      <td>0</td>\n",
       "      <td>2.0</td>\n",
       "      <td>4.0</td>\n",
       "      <td>60.0</td>\n",
       "      <td>0.0</td>\n",
       "      <td>0.0</td>\n",
       "      <td>...</td>\n",
       "      <td>9.0</td>\n",
       "      <td>8.0</td>\n",
       "      <td>1.0</td>\n",
       "      <td>0.54</td>\n",
       "      <td>3.0</td>\n",
       "      <td>7.0</td>\n",
       "      <td>5.0</td>\n",
       "      <td>1.0</td>\n",
       "      <td>0</td>\n",
       "      <td>-1.0</td>\n",
       "    </tr>\n",
       "    <tr>\n",
       "      <th>2</th>\n",
       "      <td>1.0</td>\n",
       "      <td>female</td>\n",
       "      <td>Asian/Pacific Islander/Asian-American</td>\n",
       "      <td>Asian/Pacific Islander/Asian-American</td>\n",
       "      <td>1</td>\n",
       "      <td>2.0</td>\n",
       "      <td>4.0</td>\n",
       "      <td>19.0</td>\n",
       "      <td>18.0</td>\n",
       "      <td>19.0</td>\n",
       "      <td>...</td>\n",
       "      <td>9.0</td>\n",
       "      <td>8.0</td>\n",
       "      <td>1.0</td>\n",
       "      <td>0.16</td>\n",
       "      <td>3.0</td>\n",
       "      <td>7.0</td>\n",
       "      <td>NaN</td>\n",
       "      <td>1.0</td>\n",
       "      <td>1</td>\n",
       "      <td>-1.0</td>\n",
       "    </tr>\n",
       "    <tr>\n",
       "      <th>3</th>\n",
       "      <td>1.0</td>\n",
       "      <td>female</td>\n",
       "      <td>Asian/Pacific Islander/Asian-American</td>\n",
       "      <td>European/Caucasian-American</td>\n",
       "      <td>0</td>\n",
       "      <td>2.0</td>\n",
       "      <td>4.0</td>\n",
       "      <td>30.0</td>\n",
       "      <td>5.0</td>\n",
       "      <td>15.0</td>\n",
       "      <td>...</td>\n",
       "      <td>9.0</td>\n",
       "      <td>8.0</td>\n",
       "      <td>1.0</td>\n",
       "      <td>0.61</td>\n",
       "      <td>3.0</td>\n",
       "      <td>7.0</td>\n",
       "      <td>6.0</td>\n",
       "      <td>0.0</td>\n",
       "      <td>1</td>\n",
       "      <td>-2.0</td>\n",
       "    </tr>\n",
       "    <tr>\n",
       "      <th>4</th>\n",
       "      <td>1.0</td>\n",
       "      <td>female</td>\n",
       "      <td>Asian/Pacific Islander/Asian-American</td>\n",
       "      <td>Latino/Hispanic American</td>\n",
       "      <td>0</td>\n",
       "      <td>2.0</td>\n",
       "      <td>4.0</td>\n",
       "      <td>30.0</td>\n",
       "      <td>10.0</td>\n",
       "      <td>20.0</td>\n",
       "      <td>...</td>\n",
       "      <td>9.0</td>\n",
       "      <td>8.0</td>\n",
       "      <td>1.0</td>\n",
       "      <td>0.21</td>\n",
       "      <td>3.0</td>\n",
       "      <td>6.0</td>\n",
       "      <td>6.0</td>\n",
       "      <td>0.0</td>\n",
       "      <td>1</td>\n",
       "      <td>-3.0</td>\n",
       "    </tr>\n",
       "  </tbody>\n",
       "</table>\n",
       "<p>5 rows × 56 columns</p>\n",
       "</div>"
      ],
      "text/plain": [
       "   wave  gender                                   race  \\\n",
       "0   1.0  female  Asian/Pacific Islander/Asian-American   \n",
       "1   1.0  female  Asian/Pacific Islander/Asian-American   \n",
       "2   1.0  female  Asian/Pacific Islander/Asian-American   \n",
       "3   1.0  female  Asian/Pacific Islander/Asian-American   \n",
       "4   1.0  female  Asian/Pacific Islander/Asian-American   \n",
       "\n",
       "                                  race_o samerace  importance_same_race  \\\n",
       "0            European/Caucasian-American        0                   2.0   \n",
       "1            European/Caucasian-American        0                   2.0   \n",
       "2  Asian/Pacific Islander/Asian-American        1                   2.0   \n",
       "3            European/Caucasian-American        0                   2.0   \n",
       "4               Latino/Hispanic American        0                   2.0   \n",
       "\n",
       "   importance_same_religion  pref_o_attractive  pref_o_sincere  \\\n",
       "0                       4.0               35.0            20.0   \n",
       "1                       4.0               60.0             0.0   \n",
       "2                       4.0               19.0            18.0   \n",
       "3                       4.0               30.0             5.0   \n",
       "4                       4.0               30.0            10.0   \n",
       "\n",
       "   pref_o_intelligence  ...  music  shopping  yoga  interests_correlate  \\\n",
       "0                 20.0  ...    9.0       8.0   1.0                 0.14   \n",
       "1                  0.0  ...    9.0       8.0   1.0                 0.54   \n",
       "2                 19.0  ...    9.0       8.0   1.0                 0.16   \n",
       "3                 15.0  ...    9.0       8.0   1.0                 0.61   \n",
       "4                 20.0  ...    9.0       8.0   1.0                 0.21   \n",
       "\n",
       "   expected_happy_with_sd_people  like  guess_prob_liked  met  match  age_diff  \n",
       "0                            3.0   7.0               6.0  0.0      0      -6.0  \n",
       "1                            3.0   7.0               5.0  1.0      0      -1.0  \n",
       "2                            3.0   7.0               NaN  1.0      1      -1.0  \n",
       "3                            3.0   7.0               6.0  0.0      1      -2.0  \n",
       "4                            3.0   6.0               6.0  0.0      1      -3.0  \n",
       "\n",
       "[5 rows x 56 columns]"
      ]
     },
     "execution_count": 21,
     "metadata": {},
     "output_type": "execute_result"
    }
   ],
   "source": [
    "dating.head()"
   ]
  },
  {
   "cell_type": "code",
   "execution_count": 22,
   "metadata": {},
   "outputs": [
    {
     "data": {
      "text/plain": [
       "0     7079\n",
       "1      627\n",
       "2      143\n",
       "11     119\n",
       "3       85\n",
       "4       61\n",
       "7       58\n",
       "8       54\n",
       "33      48\n",
       "5       37\n",
       "32      15\n",
       "6        8\n",
       "34       6\n",
       "19       5\n",
       "9        5\n",
       "13       5\n",
       "12       5\n",
       "44       5\n",
       "10       4\n",
       "15       3\n",
       "37       2\n",
       "18       1\n",
       "43       1\n",
       "39       1\n",
       "40       1\n",
       "dtype: int64"
      ]
     },
     "execution_count": 22,
     "metadata": {},
     "output_type": "execute_result"
    }
   ],
   "source": [
    "missing_rows=dating.isnull().sum(axis = 1)\n",
    "missing_rows.value_counts()"
   ]
  },
  {
   "cell_type": "code",
   "execution_count": 23,
   "metadata": {},
   "outputs": [],
   "source": [
    "dating_clean = dating.dropna()  #drop 15% of the rows"
   ]
  },
  {
   "cell_type": "code",
   "execution_count": 24,
   "metadata": {},
   "outputs": [
    {
     "data": {
      "text/plain": [
       "(7079, 56)"
      ]
     },
     "execution_count": 24,
     "metadata": {},
     "output_type": "execute_result"
    }
   ],
   "source": [
    "dating_clean.shape"
   ]
  },
  {
   "cell_type": "code",
   "execution_count": 25,
   "metadata": {},
   "outputs": [
    {
     "data": {
      "text/plain": [
       "0"
      ]
     },
     "execution_count": 25,
     "metadata": {},
     "output_type": "execute_result"
    }
   ],
   "source": [
    "dating_clean.isnull().sum().sum()"
   ]
  },
  {
   "cell_type": "code",
   "execution_count": 26,
   "metadata": {},
   "outputs": [
    {
     "data": {
      "text/html": [
       "<div>\n",
       "<style scoped>\n",
       "    .dataframe tbody tr th:only-of-type {\n",
       "        vertical-align: middle;\n",
       "    }\n",
       "\n",
       "    .dataframe tbody tr th {\n",
       "        vertical-align: top;\n",
       "    }\n",
       "\n",
       "    .dataframe thead th {\n",
       "        text-align: right;\n",
       "    }\n",
       "</style>\n",
       "<table border=\"1\" class=\"dataframe\">\n",
       "  <thead>\n",
       "    <tr style=\"text-align: right;\">\n",
       "      <th></th>\n",
       "      <th>wave</th>\n",
       "      <th>gender</th>\n",
       "      <th>race</th>\n",
       "      <th>race_o</th>\n",
       "      <th>samerace</th>\n",
       "      <th>importance_same_race</th>\n",
       "      <th>importance_same_religion</th>\n",
       "      <th>pref_o_attractive</th>\n",
       "      <th>pref_o_sincere</th>\n",
       "      <th>pref_o_intelligence</th>\n",
       "      <th>...</th>\n",
       "      <th>music</th>\n",
       "      <th>shopping</th>\n",
       "      <th>yoga</th>\n",
       "      <th>interests_correlate</th>\n",
       "      <th>expected_happy_with_sd_people</th>\n",
       "      <th>like</th>\n",
       "      <th>guess_prob_liked</th>\n",
       "      <th>met</th>\n",
       "      <th>match</th>\n",
       "      <th>age_diff</th>\n",
       "    </tr>\n",
       "  </thead>\n",
       "  <tbody>\n",
       "    <tr>\n",
       "      <th>0</th>\n",
       "      <td>1.0</td>\n",
       "      <td>female</td>\n",
       "      <td>Asian/Pacific Islander/Asian-American</td>\n",
       "      <td>European/Caucasian-American</td>\n",
       "      <td>0</td>\n",
       "      <td>2.0</td>\n",
       "      <td>4.0</td>\n",
       "      <td>35.0</td>\n",
       "      <td>20.0</td>\n",
       "      <td>20.0</td>\n",
       "      <td>...</td>\n",
       "      <td>9.0</td>\n",
       "      <td>8.0</td>\n",
       "      <td>1.0</td>\n",
       "      <td>0.14</td>\n",
       "      <td>3.0</td>\n",
       "      <td>7.0</td>\n",
       "      <td>6.0</td>\n",
       "      <td>0.0</td>\n",
       "      <td>0</td>\n",
       "      <td>-6.0</td>\n",
       "    </tr>\n",
       "    <tr>\n",
       "      <th>1</th>\n",
       "      <td>1.0</td>\n",
       "      <td>female</td>\n",
       "      <td>Asian/Pacific Islander/Asian-American</td>\n",
       "      <td>European/Caucasian-American</td>\n",
       "      <td>0</td>\n",
       "      <td>2.0</td>\n",
       "      <td>4.0</td>\n",
       "      <td>60.0</td>\n",
       "      <td>0.0</td>\n",
       "      <td>0.0</td>\n",
       "      <td>...</td>\n",
       "      <td>9.0</td>\n",
       "      <td>8.0</td>\n",
       "      <td>1.0</td>\n",
       "      <td>0.54</td>\n",
       "      <td>3.0</td>\n",
       "      <td>7.0</td>\n",
       "      <td>5.0</td>\n",
       "      <td>1.0</td>\n",
       "      <td>0</td>\n",
       "      <td>-1.0</td>\n",
       "    </tr>\n",
       "    <tr>\n",
       "      <th>2</th>\n",
       "      <td>1.0</td>\n",
       "      <td>female</td>\n",
       "      <td>Asian/Pacific Islander/Asian-American</td>\n",
       "      <td>Asian/Pacific Islander/Asian-American</td>\n",
       "      <td>1</td>\n",
       "      <td>2.0</td>\n",
       "      <td>4.0</td>\n",
       "      <td>19.0</td>\n",
       "      <td>18.0</td>\n",
       "      <td>19.0</td>\n",
       "      <td>...</td>\n",
       "      <td>9.0</td>\n",
       "      <td>8.0</td>\n",
       "      <td>1.0</td>\n",
       "      <td>0.16</td>\n",
       "      <td>3.0</td>\n",
       "      <td>7.0</td>\n",
       "      <td>NaN</td>\n",
       "      <td>1.0</td>\n",
       "      <td>1</td>\n",
       "      <td>-1.0</td>\n",
       "    </tr>\n",
       "    <tr>\n",
       "      <th>3</th>\n",
       "      <td>1.0</td>\n",
       "      <td>female</td>\n",
       "      <td>Asian/Pacific Islander/Asian-American</td>\n",
       "      <td>European/Caucasian-American</td>\n",
       "      <td>0</td>\n",
       "      <td>2.0</td>\n",
       "      <td>4.0</td>\n",
       "      <td>30.0</td>\n",
       "      <td>5.0</td>\n",
       "      <td>15.0</td>\n",
       "      <td>...</td>\n",
       "      <td>9.0</td>\n",
       "      <td>8.0</td>\n",
       "      <td>1.0</td>\n",
       "      <td>0.61</td>\n",
       "      <td>3.0</td>\n",
       "      <td>7.0</td>\n",
       "      <td>6.0</td>\n",
       "      <td>0.0</td>\n",
       "      <td>1</td>\n",
       "      <td>-2.0</td>\n",
       "    </tr>\n",
       "    <tr>\n",
       "      <th>4</th>\n",
       "      <td>1.0</td>\n",
       "      <td>female</td>\n",
       "      <td>Asian/Pacific Islander/Asian-American</td>\n",
       "      <td>Latino/Hispanic American</td>\n",
       "      <td>0</td>\n",
       "      <td>2.0</td>\n",
       "      <td>4.0</td>\n",
       "      <td>30.0</td>\n",
       "      <td>10.0</td>\n",
       "      <td>20.0</td>\n",
       "      <td>...</td>\n",
       "      <td>9.0</td>\n",
       "      <td>8.0</td>\n",
       "      <td>1.0</td>\n",
       "      <td>0.21</td>\n",
       "      <td>3.0</td>\n",
       "      <td>6.0</td>\n",
       "      <td>6.0</td>\n",
       "      <td>0.0</td>\n",
       "      <td>1</td>\n",
       "      <td>-3.0</td>\n",
       "    </tr>\n",
       "  </tbody>\n",
       "</table>\n",
       "<p>5 rows × 56 columns</p>\n",
       "</div>"
      ],
      "text/plain": [
       "   wave  gender                                   race  \\\n",
       "0   1.0  female  Asian/Pacific Islander/Asian-American   \n",
       "1   1.0  female  Asian/Pacific Islander/Asian-American   \n",
       "2   1.0  female  Asian/Pacific Islander/Asian-American   \n",
       "3   1.0  female  Asian/Pacific Islander/Asian-American   \n",
       "4   1.0  female  Asian/Pacific Islander/Asian-American   \n",
       "\n",
       "                                  race_o samerace  importance_same_race  \\\n",
       "0            European/Caucasian-American        0                   2.0   \n",
       "1            European/Caucasian-American        0                   2.0   \n",
       "2  Asian/Pacific Islander/Asian-American        1                   2.0   \n",
       "3            European/Caucasian-American        0                   2.0   \n",
       "4               Latino/Hispanic American        0                   2.0   \n",
       "\n",
       "   importance_same_religion  pref_o_attractive  pref_o_sincere  \\\n",
       "0                       4.0               35.0            20.0   \n",
       "1                       4.0               60.0             0.0   \n",
       "2                       4.0               19.0            18.0   \n",
       "3                       4.0               30.0             5.0   \n",
       "4                       4.0               30.0            10.0   \n",
       "\n",
       "   pref_o_intelligence  ...  music  shopping  yoga  interests_correlate  \\\n",
       "0                 20.0  ...    9.0       8.0   1.0                 0.14   \n",
       "1                  0.0  ...    9.0       8.0   1.0                 0.54   \n",
       "2                 19.0  ...    9.0       8.0   1.0                 0.16   \n",
       "3                 15.0  ...    9.0       8.0   1.0                 0.61   \n",
       "4                 20.0  ...    9.0       8.0   1.0                 0.21   \n",
       "\n",
       "   expected_happy_with_sd_people  like  guess_prob_liked  met  match  age_diff  \n",
       "0                            3.0   7.0               6.0  0.0      0      -6.0  \n",
       "1                            3.0   7.0               5.0  1.0      0      -1.0  \n",
       "2                            3.0   7.0               NaN  1.0      1      -1.0  \n",
       "3                            3.0   7.0               6.0  0.0      1      -2.0  \n",
       "4                            3.0   6.0               6.0  0.0      1      -3.0  \n",
       "\n",
       "[5 rows x 56 columns]"
      ]
     },
     "execution_count": 26,
     "metadata": {},
     "output_type": "execute_result"
    }
   ],
   "source": [
    "dating.head()"
   ]
  },
  {
   "cell_type": "code",
   "execution_count": 27,
   "metadata": {},
   "outputs": [],
   "source": [
    "#numeric columns\n",
    "columns_numeric = dating_clean.select_dtypes(include = ['int','float']).columns.tolist()\n",
    "\n",
    "#categorical columns\n",
    "columns_category = dating_clean.select_dtypes(include = ['object']).drop('match', axis=1).columns"
   ]
  },
  {
   "cell_type": "code",
   "execution_count": 28,
   "metadata": {},
   "outputs": [
    {
     "data": {
      "text/html": [
       "<div>\n",
       "<style scoped>\n",
       "    .dataframe tbody tr th:only-of-type {\n",
       "        vertical-align: middle;\n",
       "    }\n",
       "\n",
       "    .dataframe tbody tr th {\n",
       "        vertical-align: top;\n",
       "    }\n",
       "\n",
       "    .dataframe thead th {\n",
       "        text-align: right;\n",
       "    }\n",
       "</style>\n",
       "<table border=\"1\" class=\"dataframe\">\n",
       "  <thead>\n",
       "    <tr style=\"text-align: right;\">\n",
       "      <th></th>\n",
       "      <th>gender</th>\n",
       "      <th>race</th>\n",
       "      <th>race_o</th>\n",
       "      <th>samerace</th>\n",
       "    </tr>\n",
       "  </thead>\n",
       "  <tbody>\n",
       "    <tr>\n",
       "      <th>0</th>\n",
       "      <td>female</td>\n",
       "      <td>Asian/Pacific Islander/Asian-American</td>\n",
       "      <td>European/Caucasian-American</td>\n",
       "      <td>0</td>\n",
       "    </tr>\n",
       "    <tr>\n",
       "      <th>1</th>\n",
       "      <td>female</td>\n",
       "      <td>Asian/Pacific Islander/Asian-American</td>\n",
       "      <td>European/Caucasian-American</td>\n",
       "      <td>0</td>\n",
       "    </tr>\n",
       "    <tr>\n",
       "      <th>3</th>\n",
       "      <td>female</td>\n",
       "      <td>Asian/Pacific Islander/Asian-American</td>\n",
       "      <td>European/Caucasian-American</td>\n",
       "      <td>0</td>\n",
       "    </tr>\n",
       "    <tr>\n",
       "      <th>4</th>\n",
       "      <td>female</td>\n",
       "      <td>Asian/Pacific Islander/Asian-American</td>\n",
       "      <td>Latino/Hispanic American</td>\n",
       "      <td>0</td>\n",
       "    </tr>\n",
       "    <tr>\n",
       "      <th>5</th>\n",
       "      <td>female</td>\n",
       "      <td>Asian/Pacific Islander/Asian-American</td>\n",
       "      <td>European/Caucasian-American</td>\n",
       "      <td>0</td>\n",
       "    </tr>\n",
       "    <tr>\n",
       "      <th>...</th>\n",
       "      <td>...</td>\n",
       "      <td>...</td>\n",
       "      <td>...</td>\n",
       "      <td>...</td>\n",
       "    </tr>\n",
       "    <tr>\n",
       "      <th>8372</th>\n",
       "      <td>male</td>\n",
       "      <td>European/Caucasian-American</td>\n",
       "      <td>European/Caucasian-American</td>\n",
       "      <td>1</td>\n",
       "    </tr>\n",
       "    <tr>\n",
       "      <th>8373</th>\n",
       "      <td>male</td>\n",
       "      <td>European/Caucasian-American</td>\n",
       "      <td>Latino/Hispanic American</td>\n",
       "      <td>0</td>\n",
       "    </tr>\n",
       "    <tr>\n",
       "      <th>8374</th>\n",
       "      <td>male</td>\n",
       "      <td>European/Caucasian-American</td>\n",
       "      <td>Other</td>\n",
       "      <td>0</td>\n",
       "    </tr>\n",
       "    <tr>\n",
       "      <th>8376</th>\n",
       "      <td>male</td>\n",
       "      <td>European/Caucasian-American</td>\n",
       "      <td>Asian/Pacific Islander/Asian-American</td>\n",
       "      <td>0</td>\n",
       "    </tr>\n",
       "    <tr>\n",
       "      <th>8377</th>\n",
       "      <td>male</td>\n",
       "      <td>European/Caucasian-American</td>\n",
       "      <td>Asian/Pacific Islander/Asian-American</td>\n",
       "      <td>0</td>\n",
       "    </tr>\n",
       "  </tbody>\n",
       "</table>\n",
       "<p>7079 rows × 4 columns</p>\n",
       "</div>"
      ],
      "text/plain": [
       "      gender                                   race  \\\n",
       "0     female  Asian/Pacific Islander/Asian-American   \n",
       "1     female  Asian/Pacific Islander/Asian-American   \n",
       "3     female  Asian/Pacific Islander/Asian-American   \n",
       "4     female  Asian/Pacific Islander/Asian-American   \n",
       "5     female  Asian/Pacific Islander/Asian-American   \n",
       "...      ...                                    ...   \n",
       "8372    male            European/Caucasian-American   \n",
       "8373    male            European/Caucasian-American   \n",
       "8374    male            European/Caucasian-American   \n",
       "8376    male            European/Caucasian-American   \n",
       "8377    male            European/Caucasian-American   \n",
       "\n",
       "                                     race_o samerace  \n",
       "0               European/Caucasian-American        0  \n",
       "1               European/Caucasian-American        0  \n",
       "3               European/Caucasian-American        0  \n",
       "4                  Latino/Hispanic American        0  \n",
       "5               European/Caucasian-American        0  \n",
       "...                                     ...      ...  \n",
       "8372            European/Caucasian-American        1  \n",
       "8373               Latino/Hispanic American        0  \n",
       "8374                                  Other        0  \n",
       "8376  Asian/Pacific Islander/Asian-American        0  \n",
       "8377  Asian/Pacific Islander/Asian-American        0  \n",
       "\n",
       "[7079 rows x 4 columns]"
      ]
     },
     "execution_count": 28,
     "metadata": {},
     "output_type": "execute_result"
    }
   ],
   "source": [
    "dating_clean[columns_category]"
   ]
  },
  {
   "cell_type": "code",
   "execution_count": 29,
   "metadata": {},
   "outputs": [
    {
     "data": {
      "text/html": [
       "<div>\n",
       "<style scoped>\n",
       "    .dataframe tbody tr th:only-of-type {\n",
       "        vertical-align: middle;\n",
       "    }\n",
       "\n",
       "    .dataframe tbody tr th {\n",
       "        vertical-align: top;\n",
       "    }\n",
       "\n",
       "    .dataframe thead th {\n",
       "        text-align: right;\n",
       "    }\n",
       "</style>\n",
       "<table border=\"1\" class=\"dataframe\">\n",
       "  <thead>\n",
       "    <tr style=\"text-align: right;\">\n",
       "      <th></th>\n",
       "      <th>wave</th>\n",
       "      <th>importance_same_race</th>\n",
       "      <th>importance_same_religion</th>\n",
       "      <th>pref_o_attractive</th>\n",
       "      <th>pref_o_sincere</th>\n",
       "      <th>pref_o_intelligence</th>\n",
       "      <th>pref_o_funny</th>\n",
       "      <th>pref_o_ambitious</th>\n",
       "      <th>pref_o_shared_interests</th>\n",
       "      <th>attractive_o</th>\n",
       "      <th>...</th>\n",
       "      <th>concerts</th>\n",
       "      <th>music</th>\n",
       "      <th>shopping</th>\n",
       "      <th>yoga</th>\n",
       "      <th>interests_correlate</th>\n",
       "      <th>expected_happy_with_sd_people</th>\n",
       "      <th>like</th>\n",
       "      <th>guess_prob_liked</th>\n",
       "      <th>met</th>\n",
       "      <th>age_diff</th>\n",
       "    </tr>\n",
       "  </thead>\n",
       "  <tbody>\n",
       "    <tr>\n",
       "      <th>0</th>\n",
       "      <td>1.0</td>\n",
       "      <td>2.0</td>\n",
       "      <td>4.0</td>\n",
       "      <td>35.0</td>\n",
       "      <td>20.0</td>\n",
       "      <td>20.0</td>\n",
       "      <td>20.0</td>\n",
       "      <td>0.0</td>\n",
       "      <td>5.0</td>\n",
       "      <td>6.0</td>\n",
       "      <td>...</td>\n",
       "      <td>10.0</td>\n",
       "      <td>9.0</td>\n",
       "      <td>8.0</td>\n",
       "      <td>1.0</td>\n",
       "      <td>0.14</td>\n",
       "      <td>3.0</td>\n",
       "      <td>7.0</td>\n",
       "      <td>6.0</td>\n",
       "      <td>0.0</td>\n",
       "      <td>-6.0</td>\n",
       "    </tr>\n",
       "    <tr>\n",
       "      <th>1</th>\n",
       "      <td>1.0</td>\n",
       "      <td>2.0</td>\n",
       "      <td>4.0</td>\n",
       "      <td>60.0</td>\n",
       "      <td>0.0</td>\n",
       "      <td>0.0</td>\n",
       "      <td>40.0</td>\n",
       "      <td>0.0</td>\n",
       "      <td>0.0</td>\n",
       "      <td>7.0</td>\n",
       "      <td>...</td>\n",
       "      <td>10.0</td>\n",
       "      <td>9.0</td>\n",
       "      <td>8.0</td>\n",
       "      <td>1.0</td>\n",
       "      <td>0.54</td>\n",
       "      <td>3.0</td>\n",
       "      <td>7.0</td>\n",
       "      <td>5.0</td>\n",
       "      <td>1.0</td>\n",
       "      <td>-1.0</td>\n",
       "    </tr>\n",
       "    <tr>\n",
       "      <th>3</th>\n",
       "      <td>1.0</td>\n",
       "      <td>2.0</td>\n",
       "      <td>4.0</td>\n",
       "      <td>30.0</td>\n",
       "      <td>5.0</td>\n",
       "      <td>15.0</td>\n",
       "      <td>40.0</td>\n",
       "      <td>5.0</td>\n",
       "      <td>5.0</td>\n",
       "      <td>7.0</td>\n",
       "      <td>...</td>\n",
       "      <td>10.0</td>\n",
       "      <td>9.0</td>\n",
       "      <td>8.0</td>\n",
       "      <td>1.0</td>\n",
       "      <td>0.61</td>\n",
       "      <td>3.0</td>\n",
       "      <td>7.0</td>\n",
       "      <td>6.0</td>\n",
       "      <td>0.0</td>\n",
       "      <td>-2.0</td>\n",
       "    </tr>\n",
       "    <tr>\n",
       "      <th>4</th>\n",
       "      <td>1.0</td>\n",
       "      <td>2.0</td>\n",
       "      <td>4.0</td>\n",
       "      <td>30.0</td>\n",
       "      <td>10.0</td>\n",
       "      <td>20.0</td>\n",
       "      <td>10.0</td>\n",
       "      <td>10.0</td>\n",
       "      <td>20.0</td>\n",
       "      <td>8.0</td>\n",
       "      <td>...</td>\n",
       "      <td>10.0</td>\n",
       "      <td>9.0</td>\n",
       "      <td>8.0</td>\n",
       "      <td>1.0</td>\n",
       "      <td>0.21</td>\n",
       "      <td>3.0</td>\n",
       "      <td>6.0</td>\n",
       "      <td>6.0</td>\n",
       "      <td>0.0</td>\n",
       "      <td>-3.0</td>\n",
       "    </tr>\n",
       "    <tr>\n",
       "      <th>5</th>\n",
       "      <td>1.0</td>\n",
       "      <td>2.0</td>\n",
       "      <td>4.0</td>\n",
       "      <td>50.0</td>\n",
       "      <td>0.0</td>\n",
       "      <td>30.0</td>\n",
       "      <td>10.0</td>\n",
       "      <td>0.0</td>\n",
       "      <td>10.0</td>\n",
       "      <td>7.0</td>\n",
       "      <td>...</td>\n",
       "      <td>10.0</td>\n",
       "      <td>9.0</td>\n",
       "      <td>8.0</td>\n",
       "      <td>1.0</td>\n",
       "      <td>0.25</td>\n",
       "      <td>3.0</td>\n",
       "      <td>6.0</td>\n",
       "      <td>5.0</td>\n",
       "      <td>0.0</td>\n",
       "      <td>-4.0</td>\n",
       "    </tr>\n",
       "    <tr>\n",
       "      <th>...</th>\n",
       "      <td>...</td>\n",
       "      <td>...</td>\n",
       "      <td>...</td>\n",
       "      <td>...</td>\n",
       "      <td>...</td>\n",
       "      <td>...</td>\n",
       "      <td>...</td>\n",
       "      <td>...</td>\n",
       "      <td>...</td>\n",
       "      <td>...</td>\n",
       "      <td>...</td>\n",
       "      <td>...</td>\n",
       "      <td>...</td>\n",
       "      <td>...</td>\n",
       "      <td>...</td>\n",
       "      <td>...</td>\n",
       "      <td>...</td>\n",
       "      <td>...</td>\n",
       "      <td>...</td>\n",
       "      <td>...</td>\n",
       "      <td>...</td>\n",
       "    </tr>\n",
       "    <tr>\n",
       "      <th>8372</th>\n",
       "      <td>21.0</td>\n",
       "      <td>1.0</td>\n",
       "      <td>1.0</td>\n",
       "      <td>10.0</td>\n",
       "      <td>15.0</td>\n",
       "      <td>30.0</td>\n",
       "      <td>20.0</td>\n",
       "      <td>15.0</td>\n",
       "      <td>10.0</td>\n",
       "      <td>8.0</td>\n",
       "      <td>...</td>\n",
       "      <td>10.0</td>\n",
       "      <td>10.0</td>\n",
       "      <td>7.0</td>\n",
       "      <td>3.0</td>\n",
       "      <td>0.28</td>\n",
       "      <td>10.0</td>\n",
       "      <td>4.0</td>\n",
       "      <td>4.0</td>\n",
       "      <td>0.0</td>\n",
       "      <td>1.0</td>\n",
       "    </tr>\n",
       "    <tr>\n",
       "      <th>8373</th>\n",
       "      <td>21.0</td>\n",
       "      <td>1.0</td>\n",
       "      <td>1.0</td>\n",
       "      <td>10.0</td>\n",
       "      <td>10.0</td>\n",
       "      <td>30.0</td>\n",
       "      <td>20.0</td>\n",
       "      <td>10.0</td>\n",
       "      <td>15.0</td>\n",
       "      <td>10.0</td>\n",
       "      <td>...</td>\n",
       "      <td>10.0</td>\n",
       "      <td>10.0</td>\n",
       "      <td>7.0</td>\n",
       "      <td>3.0</td>\n",
       "      <td>0.64</td>\n",
       "      <td>10.0</td>\n",
       "      <td>2.0</td>\n",
       "      <td>5.0</td>\n",
       "      <td>0.0</td>\n",
       "      <td>-1.0</td>\n",
       "    </tr>\n",
       "    <tr>\n",
       "      <th>8374</th>\n",
       "      <td>21.0</td>\n",
       "      <td>1.0</td>\n",
       "      <td>1.0</td>\n",
       "      <td>50.0</td>\n",
       "      <td>20.0</td>\n",
       "      <td>10.0</td>\n",
       "      <td>5.0</td>\n",
       "      <td>10.0</td>\n",
       "      <td>5.0</td>\n",
       "      <td>6.0</td>\n",
       "      <td>...</td>\n",
       "      <td>10.0</td>\n",
       "      <td>10.0</td>\n",
       "      <td>7.0</td>\n",
       "      <td>3.0</td>\n",
       "      <td>0.71</td>\n",
       "      <td>10.0</td>\n",
       "      <td>4.0</td>\n",
       "      <td>4.0</td>\n",
       "      <td>0.0</td>\n",
       "      <td>1.0</td>\n",
       "    </tr>\n",
       "    <tr>\n",
       "      <th>8376</th>\n",
       "      <td>21.0</td>\n",
       "      <td>1.0</td>\n",
       "      <td>1.0</td>\n",
       "      <td>10.0</td>\n",
       "      <td>25.0</td>\n",
       "      <td>25.0</td>\n",
       "      <td>10.0</td>\n",
       "      <td>10.0</td>\n",
       "      <td>20.0</td>\n",
       "      <td>5.0</td>\n",
       "      <td>...</td>\n",
       "      <td>10.0</td>\n",
       "      <td>10.0</td>\n",
       "      <td>7.0</td>\n",
       "      <td>3.0</td>\n",
       "      <td>0.62</td>\n",
       "      <td>10.0</td>\n",
       "      <td>5.0</td>\n",
       "      <td>5.0</td>\n",
       "      <td>0.0</td>\n",
       "      <td>3.0</td>\n",
       "    </tr>\n",
       "    <tr>\n",
       "      <th>8377</th>\n",
       "      <td>21.0</td>\n",
       "      <td>1.0</td>\n",
       "      <td>1.0</td>\n",
       "      <td>20.0</td>\n",
       "      <td>20.0</td>\n",
       "      <td>10.0</td>\n",
       "      <td>15.0</td>\n",
       "      <td>5.0</td>\n",
       "      <td>30.0</td>\n",
       "      <td>8.0</td>\n",
       "      <td>...</td>\n",
       "      <td>10.0</td>\n",
       "      <td>10.0</td>\n",
       "      <td>7.0</td>\n",
       "      <td>3.0</td>\n",
       "      <td>0.01</td>\n",
       "      <td>10.0</td>\n",
       "      <td>4.0</td>\n",
       "      <td>5.0</td>\n",
       "      <td>0.0</td>\n",
       "      <td>3.0</td>\n",
       "    </tr>\n",
       "  </tbody>\n",
       "</table>\n",
       "<p>7079 rows × 51 columns</p>\n",
       "</div>"
      ],
      "text/plain": [
       "      wave  importance_same_race  importance_same_religion  pref_o_attractive  \\\n",
       "0      1.0                   2.0                       4.0               35.0   \n",
       "1      1.0                   2.0                       4.0               60.0   \n",
       "3      1.0                   2.0                       4.0               30.0   \n",
       "4      1.0                   2.0                       4.0               30.0   \n",
       "5      1.0                   2.0                       4.0               50.0   \n",
       "...    ...                   ...                       ...                ...   \n",
       "8372  21.0                   1.0                       1.0               10.0   \n",
       "8373  21.0                   1.0                       1.0               10.0   \n",
       "8374  21.0                   1.0                       1.0               50.0   \n",
       "8376  21.0                   1.0                       1.0               10.0   \n",
       "8377  21.0                   1.0                       1.0               20.0   \n",
       "\n",
       "      pref_o_sincere  pref_o_intelligence  pref_o_funny  pref_o_ambitious  \\\n",
       "0               20.0                 20.0          20.0               0.0   \n",
       "1                0.0                  0.0          40.0               0.0   \n",
       "3                5.0                 15.0          40.0               5.0   \n",
       "4               10.0                 20.0          10.0              10.0   \n",
       "5                0.0                 30.0          10.0               0.0   \n",
       "...              ...                  ...           ...               ...   \n",
       "8372            15.0                 30.0          20.0              15.0   \n",
       "8373            10.0                 30.0          20.0              10.0   \n",
       "8374            20.0                 10.0           5.0              10.0   \n",
       "8376            25.0                 25.0          10.0              10.0   \n",
       "8377            20.0                 10.0          15.0               5.0   \n",
       "\n",
       "      pref_o_shared_interests  attractive_o  ...  concerts  music  shopping  \\\n",
       "0                         5.0           6.0  ...      10.0    9.0       8.0   \n",
       "1                         0.0           7.0  ...      10.0    9.0       8.0   \n",
       "3                         5.0           7.0  ...      10.0    9.0       8.0   \n",
       "4                        20.0           8.0  ...      10.0    9.0       8.0   \n",
       "5                        10.0           7.0  ...      10.0    9.0       8.0   \n",
       "...                       ...           ...  ...       ...    ...       ...   \n",
       "8372                     10.0           8.0  ...      10.0   10.0       7.0   \n",
       "8373                     15.0          10.0  ...      10.0   10.0       7.0   \n",
       "8374                      5.0           6.0  ...      10.0   10.0       7.0   \n",
       "8376                     20.0           5.0  ...      10.0   10.0       7.0   \n",
       "8377                     30.0           8.0  ...      10.0   10.0       7.0   \n",
       "\n",
       "      yoga  interests_correlate  expected_happy_with_sd_people  like  \\\n",
       "0      1.0                 0.14                            3.0   7.0   \n",
       "1      1.0                 0.54                            3.0   7.0   \n",
       "3      1.0                 0.61                            3.0   7.0   \n",
       "4      1.0                 0.21                            3.0   6.0   \n",
       "5      1.0                 0.25                            3.0   6.0   \n",
       "...    ...                  ...                            ...   ...   \n",
       "8372   3.0                 0.28                           10.0   4.0   \n",
       "8373   3.0                 0.64                           10.0   2.0   \n",
       "8374   3.0                 0.71                           10.0   4.0   \n",
       "8376   3.0                 0.62                           10.0   5.0   \n",
       "8377   3.0                 0.01                           10.0   4.0   \n",
       "\n",
       "      guess_prob_liked  met  age_diff  \n",
       "0                  6.0  0.0      -6.0  \n",
       "1                  5.0  1.0      -1.0  \n",
       "3                  6.0  0.0      -2.0  \n",
       "4                  6.0  0.0      -3.0  \n",
       "5                  5.0  0.0      -4.0  \n",
       "...                ...  ...       ...  \n",
       "8372               4.0  0.0       1.0  \n",
       "8373               5.0  0.0      -1.0  \n",
       "8374               4.0  0.0       1.0  \n",
       "8376               5.0  0.0       3.0  \n",
       "8377               5.0  0.0       3.0  \n",
       "\n",
       "[7079 rows x 51 columns]"
      ]
     },
     "execution_count": 29,
     "metadata": {},
     "output_type": "execute_result"
    }
   ],
   "source": [
    "dating_clean[columns_numeric]"
   ]
  },
  {
   "cell_type": "code",
   "execution_count": 30,
   "metadata": {},
   "outputs": [],
   "source": [
    "#use get dummies to convert categorical attributes into numericals\n",
    "dating_ready = pd.get_dummies(data=dating_clean, columns=['gender', 'race', 'race_o', 'samerace', 'match'],drop_first=True)"
   ]
  },
  {
   "cell_type": "code",
   "execution_count": 31,
   "metadata": {},
   "outputs": [
    {
     "data": {
      "text/plain": [
       "(7079, 62)"
      ]
     },
     "execution_count": 31,
     "metadata": {},
     "output_type": "execute_result"
    }
   ],
   "source": [
    "dating_ready.shape"
   ]
  },
  {
   "cell_type": "code",
   "execution_count": 32,
   "metadata": {},
   "outputs": [
    {
     "data": {
      "text/plain": [
       "0"
      ]
     },
     "execution_count": 32,
     "metadata": {},
     "output_type": "execute_result"
    }
   ],
   "source": [
    "dating_ready.isnull().sum().sum()"
   ]
  },
  {
   "cell_type": "code",
   "execution_count": 33,
   "metadata": {},
   "outputs": [
    {
     "data": {
      "text/plain": [
       "float64    51\n",
       "uint8      11\n",
       "dtype: int64"
      ]
     },
     "execution_count": 33,
     "metadata": {},
     "output_type": "execute_result"
    }
   ],
   "source": [
    "dating_ready.dtypes.value_counts()"
   ]
  },
  {
   "cell_type": "code",
   "execution_count": 34,
   "metadata": {},
   "outputs": [
    {
     "data": {
      "text/html": [
       "<div>\n",
       "<style scoped>\n",
       "    .dataframe tbody tr th:only-of-type {\n",
       "        vertical-align: middle;\n",
       "    }\n",
       "\n",
       "    .dataframe tbody tr th {\n",
       "        vertical-align: top;\n",
       "    }\n",
       "\n",
       "    .dataframe thead th {\n",
       "        text-align: right;\n",
       "    }\n",
       "</style>\n",
       "<table border=\"1\" class=\"dataframe\">\n",
       "  <thead>\n",
       "    <tr style=\"text-align: right;\">\n",
       "      <th></th>\n",
       "      <th>wave</th>\n",
       "      <th>importance_same_race</th>\n",
       "      <th>importance_same_religion</th>\n",
       "      <th>pref_o_attractive</th>\n",
       "      <th>pref_o_sincere</th>\n",
       "      <th>pref_o_intelligence</th>\n",
       "      <th>pref_o_funny</th>\n",
       "      <th>pref_o_ambitious</th>\n",
       "      <th>pref_o_shared_interests</th>\n",
       "      <th>attractive_o</th>\n",
       "      <th>...</th>\n",
       "      <th>race_Black/African American</th>\n",
       "      <th>race_European/Caucasian-American</th>\n",
       "      <th>race_Latino/Hispanic American</th>\n",
       "      <th>race_Other</th>\n",
       "      <th>race_o_Black/African American</th>\n",
       "      <th>race_o_European/Caucasian-American</th>\n",
       "      <th>race_o_Latino/Hispanic American</th>\n",
       "      <th>race_o_Other</th>\n",
       "      <th>samerace_1</th>\n",
       "      <th>match_1</th>\n",
       "    </tr>\n",
       "  </thead>\n",
       "  <tbody>\n",
       "    <tr>\n",
       "      <th>count</th>\n",
       "      <td>7079.000000</td>\n",
       "      <td>7079.000000</td>\n",
       "      <td>7079.00000</td>\n",
       "      <td>7079.000000</td>\n",
       "      <td>7079.000000</td>\n",
       "      <td>7079.000000</td>\n",
       "      <td>7079.000000</td>\n",
       "      <td>7079.000000</td>\n",
       "      <td>7079.000000</td>\n",
       "      <td>7079.000000</td>\n",
       "      <td>...</td>\n",
       "      <td>7079.000000</td>\n",
       "      <td>7079.000000</td>\n",
       "      <td>7079.000000</td>\n",
       "      <td>7079.000000</td>\n",
       "      <td>7079.000000</td>\n",
       "      <td>7079.000000</td>\n",
       "      <td>7079.000000</td>\n",
       "      <td>7079.000000</td>\n",
       "      <td>7079.00000</td>\n",
       "      <td>7079.000000</td>\n",
       "    </tr>\n",
       "    <tr>\n",
       "      <th>mean</th>\n",
       "      <td>11.299336</td>\n",
       "      <td>3.782738</td>\n",
       "      <td>3.65772</td>\n",
       "      <td>22.232585</td>\n",
       "      <td>17.444366</td>\n",
       "      <td>20.304576</td>\n",
       "      <td>17.490668</td>\n",
       "      <td>10.723546</td>\n",
       "      <td>11.848880</td>\n",
       "      <td>6.209549</td>\n",
       "      <td>...</td>\n",
       "      <td>0.047606</td>\n",
       "      <td>0.563921</td>\n",
       "      <td>0.077977</td>\n",
       "      <td>0.067382</td>\n",
       "      <td>0.048736</td>\n",
       "      <td>0.560107</td>\n",
       "      <td>0.080096</td>\n",
       "      <td>0.065970</td>\n",
       "      <td>0.40048</td>\n",
       "      <td>0.174318</td>\n",
       "    </tr>\n",
       "    <tr>\n",
       "      <th>std</th>\n",
       "      <td>5.957994</td>\n",
       "      <td>2.832566</td>\n",
       "      <td>2.81831</td>\n",
       "      <td>12.372573</td>\n",
       "      <td>6.932509</td>\n",
       "      <td>6.831764</td>\n",
       "      <td>6.092708</td>\n",
       "      <td>6.107862</td>\n",
       "      <td>6.348855</td>\n",
       "      <td>1.939503</td>\n",
       "      <td>...</td>\n",
       "      <td>0.212945</td>\n",
       "      <td>0.495932</td>\n",
       "      <td>0.268155</td>\n",
       "      <td>0.250701</td>\n",
       "      <td>0.215330</td>\n",
       "      <td>0.496409</td>\n",
       "      <td>0.271461</td>\n",
       "      <td>0.248247</td>\n",
       "      <td>0.49003</td>\n",
       "      <td>0.379410</td>\n",
       "    </tr>\n",
       "    <tr>\n",
       "      <th>min</th>\n",
       "      <td>1.000000</td>\n",
       "      <td>0.000000</td>\n",
       "      <td>1.00000</td>\n",
       "      <td>0.000000</td>\n",
       "      <td>0.000000</td>\n",
       "      <td>0.000000</td>\n",
       "      <td>0.000000</td>\n",
       "      <td>0.000000</td>\n",
       "      <td>0.000000</td>\n",
       "      <td>0.000000</td>\n",
       "      <td>...</td>\n",
       "      <td>0.000000</td>\n",
       "      <td>0.000000</td>\n",
       "      <td>0.000000</td>\n",
       "      <td>0.000000</td>\n",
       "      <td>0.000000</td>\n",
       "      <td>0.000000</td>\n",
       "      <td>0.000000</td>\n",
       "      <td>0.000000</td>\n",
       "      <td>0.00000</td>\n",
       "      <td>0.000000</td>\n",
       "    </tr>\n",
       "    <tr>\n",
       "      <th>25%</th>\n",
       "      <td>7.000000</td>\n",
       "      <td>1.000000</td>\n",
       "      <td>1.00000</td>\n",
       "      <td>15.000000</td>\n",
       "      <td>15.000000</td>\n",
       "      <td>17.500000</td>\n",
       "      <td>15.000000</td>\n",
       "      <td>5.000000</td>\n",
       "      <td>9.520000</td>\n",
       "      <td>5.000000</td>\n",
       "      <td>...</td>\n",
       "      <td>0.000000</td>\n",
       "      <td>0.000000</td>\n",
       "      <td>0.000000</td>\n",
       "      <td>0.000000</td>\n",
       "      <td>0.000000</td>\n",
       "      <td>0.000000</td>\n",
       "      <td>0.000000</td>\n",
       "      <td>0.000000</td>\n",
       "      <td>0.00000</td>\n",
       "      <td>0.000000</td>\n",
       "    </tr>\n",
       "    <tr>\n",
       "      <th>50%</th>\n",
       "      <td>11.000000</td>\n",
       "      <td>3.000000</td>\n",
       "      <td>3.00000</td>\n",
       "      <td>20.000000</td>\n",
       "      <td>18.370000</td>\n",
       "      <td>20.000000</td>\n",
       "      <td>18.000000</td>\n",
       "      <td>10.000000</td>\n",
       "      <td>10.640000</td>\n",
       "      <td>6.000000</td>\n",
       "      <td>...</td>\n",
       "      <td>0.000000</td>\n",
       "      <td>1.000000</td>\n",
       "      <td>0.000000</td>\n",
       "      <td>0.000000</td>\n",
       "      <td>0.000000</td>\n",
       "      <td>1.000000</td>\n",
       "      <td>0.000000</td>\n",
       "      <td>0.000000</td>\n",
       "      <td>0.00000</td>\n",
       "      <td>0.000000</td>\n",
       "    </tr>\n",
       "    <tr>\n",
       "      <th>75%</th>\n",
       "      <td>15.000000</td>\n",
       "      <td>6.000000</td>\n",
       "      <td>6.00000</td>\n",
       "      <td>25.000000</td>\n",
       "      <td>20.000000</td>\n",
       "      <td>23.810000</td>\n",
       "      <td>20.000000</td>\n",
       "      <td>15.000000</td>\n",
       "      <td>16.000000</td>\n",
       "      <td>8.000000</td>\n",
       "      <td>...</td>\n",
       "      <td>0.000000</td>\n",
       "      <td>1.000000</td>\n",
       "      <td>0.000000</td>\n",
       "      <td>0.000000</td>\n",
       "      <td>0.000000</td>\n",
       "      <td>1.000000</td>\n",
       "      <td>0.000000</td>\n",
       "      <td>0.000000</td>\n",
       "      <td>1.00000</td>\n",
       "      <td>0.000000</td>\n",
       "    </tr>\n",
       "    <tr>\n",
       "      <th>max</th>\n",
       "      <td>21.000000</td>\n",
       "      <td>10.000000</td>\n",
       "      <td>10.00000</td>\n",
       "      <td>100.000000</td>\n",
       "      <td>47.000000</td>\n",
       "      <td>50.000000</td>\n",
       "      <td>50.000000</td>\n",
       "      <td>53.000000</td>\n",
       "      <td>30.000000</td>\n",
       "      <td>10.500000</td>\n",
       "      <td>...</td>\n",
       "      <td>1.000000</td>\n",
       "      <td>1.000000</td>\n",
       "      <td>1.000000</td>\n",
       "      <td>1.000000</td>\n",
       "      <td>1.000000</td>\n",
       "      <td>1.000000</td>\n",
       "      <td>1.000000</td>\n",
       "      <td>1.000000</td>\n",
       "      <td>1.00000</td>\n",
       "      <td>1.000000</td>\n",
       "    </tr>\n",
       "  </tbody>\n",
       "</table>\n",
       "<p>8 rows × 62 columns</p>\n",
       "</div>"
      ],
      "text/plain": [
       "              wave  importance_same_race  importance_same_religion  \\\n",
       "count  7079.000000           7079.000000                7079.00000   \n",
       "mean     11.299336              3.782738                   3.65772   \n",
       "std       5.957994              2.832566                   2.81831   \n",
       "min       1.000000              0.000000                   1.00000   \n",
       "25%       7.000000              1.000000                   1.00000   \n",
       "50%      11.000000              3.000000                   3.00000   \n",
       "75%      15.000000              6.000000                   6.00000   \n",
       "max      21.000000             10.000000                  10.00000   \n",
       "\n",
       "       pref_o_attractive  pref_o_sincere  pref_o_intelligence  pref_o_funny  \\\n",
       "count        7079.000000     7079.000000          7079.000000   7079.000000   \n",
       "mean           22.232585       17.444366            20.304576     17.490668   \n",
       "std            12.372573        6.932509             6.831764      6.092708   \n",
       "min             0.000000        0.000000             0.000000      0.000000   \n",
       "25%            15.000000       15.000000            17.500000     15.000000   \n",
       "50%            20.000000       18.370000            20.000000     18.000000   \n",
       "75%            25.000000       20.000000            23.810000     20.000000   \n",
       "max           100.000000       47.000000            50.000000     50.000000   \n",
       "\n",
       "       pref_o_ambitious  pref_o_shared_interests  attractive_o  ...  \\\n",
       "count       7079.000000              7079.000000   7079.000000  ...   \n",
       "mean          10.723546                11.848880      6.209549  ...   \n",
       "std            6.107862                 6.348855      1.939503  ...   \n",
       "min            0.000000                 0.000000      0.000000  ...   \n",
       "25%            5.000000                 9.520000      5.000000  ...   \n",
       "50%           10.000000                10.640000      6.000000  ...   \n",
       "75%           15.000000                16.000000      8.000000  ...   \n",
       "max           53.000000                30.000000     10.500000  ...   \n",
       "\n",
       "       race_Black/African American  race_European/Caucasian-American  \\\n",
       "count                  7079.000000                       7079.000000   \n",
       "mean                      0.047606                          0.563921   \n",
       "std                       0.212945                          0.495932   \n",
       "min                       0.000000                          0.000000   \n",
       "25%                       0.000000                          0.000000   \n",
       "50%                       0.000000                          1.000000   \n",
       "75%                       0.000000                          1.000000   \n",
       "max                       1.000000                          1.000000   \n",
       "\n",
       "       race_Latino/Hispanic American   race_Other  \\\n",
       "count                    7079.000000  7079.000000   \n",
       "mean                        0.077977     0.067382   \n",
       "std                         0.268155     0.250701   \n",
       "min                         0.000000     0.000000   \n",
       "25%                         0.000000     0.000000   \n",
       "50%                         0.000000     0.000000   \n",
       "75%                         0.000000     0.000000   \n",
       "max                         1.000000     1.000000   \n",
       "\n",
       "       race_o_Black/African American  race_o_European/Caucasian-American  \\\n",
       "count                    7079.000000                         7079.000000   \n",
       "mean                        0.048736                            0.560107   \n",
       "std                         0.215330                            0.496409   \n",
       "min                         0.000000                            0.000000   \n",
       "25%                         0.000000                            0.000000   \n",
       "50%                         0.000000                            1.000000   \n",
       "75%                         0.000000                            1.000000   \n",
       "max                         1.000000                            1.000000   \n",
       "\n",
       "       race_o_Latino/Hispanic American  race_o_Other  samerace_1      match_1  \n",
       "count                      7079.000000   7079.000000  7079.00000  7079.000000  \n",
       "mean                          0.080096      0.065970     0.40048     0.174318  \n",
       "std                           0.271461      0.248247     0.49003     0.379410  \n",
       "min                           0.000000      0.000000     0.00000     0.000000  \n",
       "25%                           0.000000      0.000000     0.00000     0.000000  \n",
       "50%                           0.000000      0.000000     0.00000     0.000000  \n",
       "75%                           0.000000      0.000000     1.00000     0.000000  \n",
       "max                           1.000000      1.000000     1.00000     1.000000  \n",
       "\n",
       "[8 rows x 62 columns]"
      ]
     },
     "execution_count": 34,
     "metadata": {},
     "output_type": "execute_result"
    }
   ],
   "source": [
    "dating_ready.describe()"
   ]
  },
  {
   "cell_type": "code",
   "execution_count": 35,
   "metadata": {},
   "outputs": [
    {
     "data": {
      "text/plain": [
       "Index(['wave', 'importance_same_race', 'importance_same_religion',\n",
       "       'pref_o_attractive', 'pref_o_sincere', 'pref_o_intelligence',\n",
       "       'pref_o_funny', 'pref_o_ambitious', 'pref_o_shared_interests',\n",
       "       'attractive_o', 'sinsere_o', 'intelligence_o', 'funny_o',\n",
       "       'attractive_important', 'sincere_important', 'intellicence_important',\n",
       "       'funny_important', 'ambtition_important', 'shared_interests_important',\n",
       "       'attractive', 'sincere', 'intelligence', 'funny', 'ambition',\n",
       "       'attractive_partner', 'sincere_partner', 'intelligence_partner',\n",
       "       'funny_partner', 'sports', 'tvsports', 'exercise', 'dining', 'museums',\n",
       "       'art', 'hiking', 'gaming', 'clubbing', 'reading', 'tv', 'theater',\n",
       "       'movies', 'concerts', 'music', 'shopping', 'yoga',\n",
       "       'interests_correlate', 'expected_happy_with_sd_people', 'like',\n",
       "       'guess_prob_liked', 'met', 'age_diff', 'gender_male',\n",
       "       'race_Black/African American', 'race_European/Caucasian-American',\n",
       "       'race_Latino/Hispanic American', 'race_Other',\n",
       "       'race_o_Black/African American', 'race_o_European/Caucasian-American',\n",
       "       'race_o_Latino/Hispanic American', 'race_o_Other', 'samerace_1',\n",
       "       'match_1'],\n",
       "      dtype='object')"
      ]
     },
     "execution_count": 35,
     "metadata": {},
     "output_type": "execute_result"
    }
   ],
   "source": [
    "dating_ready.columns"
   ]
  },
  {
   "attachments": {},
   "cell_type": "markdown",
   "metadata": {},
   "source": [
    "## Logistic Regression and Cross Validation"
   ]
  },
  {
   "cell_type": "code",
   "execution_count": 36,
   "metadata": {},
   "outputs": [],
   "source": [
    "from sklearn.model_selection import cross_val_score\n",
    "from sklearn.linear_model import LogisticRegression\n",
    "from sklearn.model_selection import train_test_split"
   ]
  },
  {
   "cell_type": "code",
   "execution_count": 43,
   "metadata": {},
   "outputs": [],
   "source": [
    "#choose attributes to make the regression and the target\n",
    "y = dating_ready[['match_1']]\n",
    "X = dating_ready.drop(['match_1'], axis = 1) #all the attributes\n",
    "X1 = X[['like', 'met']] \n",
    "X2 = X[['shopping', 'concerts', 'clubbing']]\n",
    "X3 = X[['sports', 'tvsports', 'hiking', 'exercise']]"
   ]
  },
  {
   "cell_type": "code",
   "execution_count": 59,
   "metadata": {},
   "outputs": [
    {
     "data": {
      "text/plain": [
       "(7079, 1)"
      ]
     },
     "execution_count": 59,
     "metadata": {},
     "output_type": "execute_result"
    }
   ],
   "source": [
    "y.shape"
   ]
  },
  {
   "cell_type": "code",
   "execution_count": 60,
   "metadata": {},
   "outputs": [
    {
     "data": {
      "text/plain": [
       "(7079, 63)"
      ]
     },
     "execution_count": 60,
     "metadata": {},
     "output_type": "execute_result"
    }
   ],
   "source": [
    "X.shape"
   ]
  },
  {
   "cell_type": "code",
   "execution_count": 61,
   "metadata": {},
   "outputs": [
    {
     "data": {
      "text/html": [
       "<div>\n",
       "<style scoped>\n",
       "    .dataframe tbody tr th:only-of-type {\n",
       "        vertical-align: middle;\n",
       "    }\n",
       "\n",
       "    .dataframe tbody tr th {\n",
       "        vertical-align: top;\n",
       "    }\n",
       "\n",
       "    .dataframe thead th {\n",
       "        text-align: right;\n",
       "    }\n",
       "</style>\n",
       "<table border=\"1\" class=\"dataframe\">\n",
       "  <thead>\n",
       "    <tr style=\"text-align: right;\">\n",
       "      <th></th>\n",
       "      <th>wave</th>\n",
       "      <th>importance_same_race</th>\n",
       "      <th>importance_same_religion</th>\n",
       "      <th>pref_o_attractive</th>\n",
       "      <th>pref_o_sincere</th>\n",
       "      <th>pref_o_intelligence</th>\n",
       "      <th>pref_o_funny</th>\n",
       "      <th>pref_o_ambitious</th>\n",
       "      <th>pref_o_shared_interests</th>\n",
       "      <th>attractive_o</th>\n",
       "      <th>...</th>\n",
       "      <th>race_European/Caucasian-American</th>\n",
       "      <th>race_Latino/Hispanic American</th>\n",
       "      <th>race_Other</th>\n",
       "      <th>race_o_Black/African American</th>\n",
       "      <th>race_o_European/Caucasian-American</th>\n",
       "      <th>race_o_Latino/Hispanic American</th>\n",
       "      <th>race_o_Other</th>\n",
       "      <th>samerace_1</th>\n",
       "      <th>Kmeans_Clusters</th>\n",
       "      <th>MATCH</th>\n",
       "    </tr>\n",
       "  </thead>\n",
       "  <tbody>\n",
       "    <tr>\n",
       "      <th>0</th>\n",
       "      <td>1.0</td>\n",
       "      <td>2.0</td>\n",
       "      <td>4.0</td>\n",
       "      <td>35.0</td>\n",
       "      <td>20.0</td>\n",
       "      <td>20.0</td>\n",
       "      <td>20.0</td>\n",
       "      <td>0.0</td>\n",
       "      <td>5.0</td>\n",
       "      <td>6.0</td>\n",
       "      <td>...</td>\n",
       "      <td>0</td>\n",
       "      <td>0</td>\n",
       "      <td>0</td>\n",
       "      <td>0</td>\n",
       "      <td>1</td>\n",
       "      <td>0</td>\n",
       "      <td>0</td>\n",
       "      <td>0</td>\n",
       "      <td>1</td>\n",
       "      <td>0</td>\n",
       "    </tr>\n",
       "    <tr>\n",
       "      <th>1</th>\n",
       "      <td>1.0</td>\n",
       "      <td>2.0</td>\n",
       "      <td>4.0</td>\n",
       "      <td>60.0</td>\n",
       "      <td>0.0</td>\n",
       "      <td>0.0</td>\n",
       "      <td>40.0</td>\n",
       "      <td>0.0</td>\n",
       "      <td>0.0</td>\n",
       "      <td>7.0</td>\n",
       "      <td>...</td>\n",
       "      <td>0</td>\n",
       "      <td>0</td>\n",
       "      <td>0</td>\n",
       "      <td>0</td>\n",
       "      <td>1</td>\n",
       "      <td>0</td>\n",
       "      <td>0</td>\n",
       "      <td>0</td>\n",
       "      <td>1</td>\n",
       "      <td>0</td>\n",
       "    </tr>\n",
       "    <tr>\n",
       "      <th>3</th>\n",
       "      <td>1.0</td>\n",
       "      <td>2.0</td>\n",
       "      <td>4.0</td>\n",
       "      <td>30.0</td>\n",
       "      <td>5.0</td>\n",
       "      <td>15.0</td>\n",
       "      <td>40.0</td>\n",
       "      <td>5.0</td>\n",
       "      <td>5.0</td>\n",
       "      <td>7.0</td>\n",
       "      <td>...</td>\n",
       "      <td>0</td>\n",
       "      <td>0</td>\n",
       "      <td>0</td>\n",
       "      <td>0</td>\n",
       "      <td>1</td>\n",
       "      <td>0</td>\n",
       "      <td>0</td>\n",
       "      <td>0</td>\n",
       "      <td>1</td>\n",
       "      <td>1</td>\n",
       "    </tr>\n",
       "    <tr>\n",
       "      <th>4</th>\n",
       "      <td>1.0</td>\n",
       "      <td>2.0</td>\n",
       "      <td>4.0</td>\n",
       "      <td>30.0</td>\n",
       "      <td>10.0</td>\n",
       "      <td>20.0</td>\n",
       "      <td>10.0</td>\n",
       "      <td>10.0</td>\n",
       "      <td>20.0</td>\n",
       "      <td>8.0</td>\n",
       "      <td>...</td>\n",
       "      <td>0</td>\n",
       "      <td>0</td>\n",
       "      <td>0</td>\n",
       "      <td>0</td>\n",
       "      <td>0</td>\n",
       "      <td>1</td>\n",
       "      <td>0</td>\n",
       "      <td>0</td>\n",
       "      <td>1</td>\n",
       "      <td>1</td>\n",
       "    </tr>\n",
       "    <tr>\n",
       "      <th>5</th>\n",
       "      <td>1.0</td>\n",
       "      <td>2.0</td>\n",
       "      <td>4.0</td>\n",
       "      <td>50.0</td>\n",
       "      <td>0.0</td>\n",
       "      <td>30.0</td>\n",
       "      <td>10.0</td>\n",
       "      <td>0.0</td>\n",
       "      <td>10.0</td>\n",
       "      <td>7.0</td>\n",
       "      <td>...</td>\n",
       "      <td>0</td>\n",
       "      <td>0</td>\n",
       "      <td>0</td>\n",
       "      <td>0</td>\n",
       "      <td>1</td>\n",
       "      <td>0</td>\n",
       "      <td>0</td>\n",
       "      <td>0</td>\n",
       "      <td>1</td>\n",
       "      <td>0</td>\n",
       "    </tr>\n",
       "  </tbody>\n",
       "</table>\n",
       "<p>5 rows × 63 columns</p>\n",
       "</div>"
      ],
      "text/plain": [
       "   wave  importance_same_race  importance_same_religion  pref_o_attractive  \\\n",
       "0   1.0                   2.0                       4.0               35.0   \n",
       "1   1.0                   2.0                       4.0               60.0   \n",
       "3   1.0                   2.0                       4.0               30.0   \n",
       "4   1.0                   2.0                       4.0               30.0   \n",
       "5   1.0                   2.0                       4.0               50.0   \n",
       "\n",
       "   pref_o_sincere  pref_o_intelligence  pref_o_funny  pref_o_ambitious  \\\n",
       "0            20.0                 20.0          20.0               0.0   \n",
       "1             0.0                  0.0          40.0               0.0   \n",
       "3             5.0                 15.0          40.0               5.0   \n",
       "4            10.0                 20.0          10.0              10.0   \n",
       "5             0.0                 30.0          10.0               0.0   \n",
       "\n",
       "   pref_o_shared_interests  attractive_o  ...  \\\n",
       "0                      5.0           6.0  ...   \n",
       "1                      0.0           7.0  ...   \n",
       "3                      5.0           7.0  ...   \n",
       "4                     20.0           8.0  ...   \n",
       "5                     10.0           7.0  ...   \n",
       "\n",
       "   race_European/Caucasian-American  race_Latino/Hispanic American  \\\n",
       "0                                 0                              0   \n",
       "1                                 0                              0   \n",
       "3                                 0                              0   \n",
       "4                                 0                              0   \n",
       "5                                 0                              0   \n",
       "\n",
       "   race_Other  race_o_Black/African American  \\\n",
       "0           0                              0   \n",
       "1           0                              0   \n",
       "3           0                              0   \n",
       "4           0                              0   \n",
       "5           0                              0   \n",
       "\n",
       "   race_o_European/Caucasian-American  race_o_Latino/Hispanic American  \\\n",
       "0                                   1                                0   \n",
       "1                                   1                                0   \n",
       "3                                   1                                0   \n",
       "4                                   0                                1   \n",
       "5                                   1                                0   \n",
       "\n",
       "   race_o_Other  samerace_1  Kmeans_Clusters  MATCH  \n",
       "0             0           0                1      0  \n",
       "1             0           0                1      0  \n",
       "3             0           0                1      1  \n",
       "4             0           0                1      1  \n",
       "5             0           0                1      0  \n",
       "\n",
       "[5 rows x 63 columns]"
      ]
     },
     "execution_count": 61,
     "metadata": {},
     "output_type": "execute_result"
    }
   ],
   "source": [
    "X.head()"
   ]
  },
  {
   "cell_type": "code",
   "execution_count": 62,
   "metadata": {},
   "outputs": [],
   "source": [
    "from imblearn.over_sampling import RandomOverSampler\n",
    "\n",
    "#aplicar el sobremuestreo aleatorio a la clase minoritariaros = RandomOverSampler()\n",
    "ros = RandomOverSampler()\n",
    "\n",
    "X1, y1 = ros.fit_resample(X1, y)\n",
    "X2, y2 = ros.fit_resample(X2, y)\n",
    "X3, y3 = ros.fit_resample(X3, y)\n",
    "X, y = ros.fit_resample(X, y)"
   ]
  },
  {
   "cell_type": "code",
   "execution_count": 63,
   "metadata": {},
   "outputs": [
    {
     "data": {
      "text/html": [
       "<div>\n",
       "<style scoped>\n",
       "    .dataframe tbody tr th:only-of-type {\n",
       "        vertical-align: middle;\n",
       "    }\n",
       "\n",
       "    .dataframe tbody tr th {\n",
       "        vertical-align: top;\n",
       "    }\n",
       "\n",
       "    .dataframe thead th {\n",
       "        text-align: right;\n",
       "    }\n",
       "</style>\n",
       "<table border=\"1\" class=\"dataframe\">\n",
       "  <thead>\n",
       "    <tr style=\"text-align: right;\">\n",
       "      <th></th>\n",
       "      <th>wave</th>\n",
       "      <th>importance_same_race</th>\n",
       "      <th>importance_same_religion</th>\n",
       "      <th>pref_o_attractive</th>\n",
       "      <th>pref_o_sincere</th>\n",
       "      <th>pref_o_intelligence</th>\n",
       "      <th>pref_o_funny</th>\n",
       "      <th>pref_o_ambitious</th>\n",
       "      <th>pref_o_shared_interests</th>\n",
       "      <th>attractive_o</th>\n",
       "      <th>...</th>\n",
       "      <th>race_European/Caucasian-American</th>\n",
       "      <th>race_Latino/Hispanic American</th>\n",
       "      <th>race_Other</th>\n",
       "      <th>race_o_Black/African American</th>\n",
       "      <th>race_o_European/Caucasian-American</th>\n",
       "      <th>race_o_Latino/Hispanic American</th>\n",
       "      <th>race_o_Other</th>\n",
       "      <th>samerace_1</th>\n",
       "      <th>Kmeans_Clusters</th>\n",
       "      <th>MATCH</th>\n",
       "    </tr>\n",
       "  </thead>\n",
       "  <tbody>\n",
       "    <tr>\n",
       "      <th>0</th>\n",
       "      <td>1.0</td>\n",
       "      <td>2.0</td>\n",
       "      <td>4.0</td>\n",
       "      <td>35.0</td>\n",
       "      <td>20.0</td>\n",
       "      <td>20.0</td>\n",
       "      <td>20.0</td>\n",
       "      <td>0.0</td>\n",
       "      <td>5.0</td>\n",
       "      <td>6.0</td>\n",
       "      <td>...</td>\n",
       "      <td>0</td>\n",
       "      <td>0</td>\n",
       "      <td>0</td>\n",
       "      <td>0</td>\n",
       "      <td>1</td>\n",
       "      <td>0</td>\n",
       "      <td>0</td>\n",
       "      <td>0</td>\n",
       "      <td>1</td>\n",
       "      <td>0</td>\n",
       "    </tr>\n",
       "    <tr>\n",
       "      <th>1</th>\n",
       "      <td>1.0</td>\n",
       "      <td>2.0</td>\n",
       "      <td>4.0</td>\n",
       "      <td>60.0</td>\n",
       "      <td>0.0</td>\n",
       "      <td>0.0</td>\n",
       "      <td>40.0</td>\n",
       "      <td>0.0</td>\n",
       "      <td>0.0</td>\n",
       "      <td>7.0</td>\n",
       "      <td>...</td>\n",
       "      <td>0</td>\n",
       "      <td>0</td>\n",
       "      <td>0</td>\n",
       "      <td>0</td>\n",
       "      <td>1</td>\n",
       "      <td>0</td>\n",
       "      <td>0</td>\n",
       "      <td>0</td>\n",
       "      <td>1</td>\n",
       "      <td>0</td>\n",
       "    </tr>\n",
       "    <tr>\n",
       "      <th>2</th>\n",
       "      <td>1.0</td>\n",
       "      <td>2.0</td>\n",
       "      <td>4.0</td>\n",
       "      <td>30.0</td>\n",
       "      <td>5.0</td>\n",
       "      <td>15.0</td>\n",
       "      <td>40.0</td>\n",
       "      <td>5.0</td>\n",
       "      <td>5.0</td>\n",
       "      <td>7.0</td>\n",
       "      <td>...</td>\n",
       "      <td>0</td>\n",
       "      <td>0</td>\n",
       "      <td>0</td>\n",
       "      <td>0</td>\n",
       "      <td>1</td>\n",
       "      <td>0</td>\n",
       "      <td>0</td>\n",
       "      <td>0</td>\n",
       "      <td>1</td>\n",
       "      <td>1</td>\n",
       "    </tr>\n",
       "    <tr>\n",
       "      <th>3</th>\n",
       "      <td>1.0</td>\n",
       "      <td>2.0</td>\n",
       "      <td>4.0</td>\n",
       "      <td>30.0</td>\n",
       "      <td>10.0</td>\n",
       "      <td>20.0</td>\n",
       "      <td>10.0</td>\n",
       "      <td>10.0</td>\n",
       "      <td>20.0</td>\n",
       "      <td>8.0</td>\n",
       "      <td>...</td>\n",
       "      <td>0</td>\n",
       "      <td>0</td>\n",
       "      <td>0</td>\n",
       "      <td>0</td>\n",
       "      <td>0</td>\n",
       "      <td>1</td>\n",
       "      <td>0</td>\n",
       "      <td>0</td>\n",
       "      <td>1</td>\n",
       "      <td>1</td>\n",
       "    </tr>\n",
       "    <tr>\n",
       "      <th>4</th>\n",
       "      <td>1.0</td>\n",
       "      <td>2.0</td>\n",
       "      <td>4.0</td>\n",
       "      <td>50.0</td>\n",
       "      <td>0.0</td>\n",
       "      <td>30.0</td>\n",
       "      <td>10.0</td>\n",
       "      <td>0.0</td>\n",
       "      <td>10.0</td>\n",
       "      <td>7.0</td>\n",
       "      <td>...</td>\n",
       "      <td>0</td>\n",
       "      <td>0</td>\n",
       "      <td>0</td>\n",
       "      <td>0</td>\n",
       "      <td>1</td>\n",
       "      <td>0</td>\n",
       "      <td>0</td>\n",
       "      <td>0</td>\n",
       "      <td>1</td>\n",
       "      <td>0</td>\n",
       "    </tr>\n",
       "  </tbody>\n",
       "</table>\n",
       "<p>5 rows × 63 columns</p>\n",
       "</div>"
      ],
      "text/plain": [
       "   wave  importance_same_race  importance_same_religion  pref_o_attractive  \\\n",
       "0   1.0                   2.0                       4.0               35.0   \n",
       "1   1.0                   2.0                       4.0               60.0   \n",
       "2   1.0                   2.0                       4.0               30.0   \n",
       "3   1.0                   2.0                       4.0               30.0   \n",
       "4   1.0                   2.0                       4.0               50.0   \n",
       "\n",
       "   pref_o_sincere  pref_o_intelligence  pref_o_funny  pref_o_ambitious  \\\n",
       "0            20.0                 20.0          20.0               0.0   \n",
       "1             0.0                  0.0          40.0               0.0   \n",
       "2             5.0                 15.0          40.0               5.0   \n",
       "3            10.0                 20.0          10.0              10.0   \n",
       "4             0.0                 30.0          10.0               0.0   \n",
       "\n",
       "   pref_o_shared_interests  attractive_o  ...  \\\n",
       "0                      5.0           6.0  ...   \n",
       "1                      0.0           7.0  ...   \n",
       "2                      5.0           7.0  ...   \n",
       "3                     20.0           8.0  ...   \n",
       "4                     10.0           7.0  ...   \n",
       "\n",
       "   race_European/Caucasian-American  race_Latino/Hispanic American  \\\n",
       "0                                 0                              0   \n",
       "1                                 0                              0   \n",
       "2                                 0                              0   \n",
       "3                                 0                              0   \n",
       "4                                 0                              0   \n",
       "\n",
       "   race_Other  race_o_Black/African American  \\\n",
       "0           0                              0   \n",
       "1           0                              0   \n",
       "2           0                              0   \n",
       "3           0                              0   \n",
       "4           0                              0   \n",
       "\n",
       "   race_o_European/Caucasian-American  race_o_Latino/Hispanic American  \\\n",
       "0                                   1                                0   \n",
       "1                                   1                                0   \n",
       "2                                   1                                0   \n",
       "3                                   0                                1   \n",
       "4                                   1                                0   \n",
       "\n",
       "   race_o_Other  samerace_1  Kmeans_Clusters  MATCH  \n",
       "0             0           0                1      0  \n",
       "1             0           0                1      0  \n",
       "2             0           0                1      1  \n",
       "3             0           0                1      1  \n",
       "4             0           0                1      0  \n",
       "\n",
       "[5 rows x 63 columns]"
      ]
     },
     "execution_count": 63,
     "metadata": {},
     "output_type": "execute_result"
    }
   ],
   "source": [
    "X.head()"
   ]
  },
  {
   "cell_type": "code",
   "execution_count": 64,
   "metadata": {},
   "outputs": [],
   "source": [
    "X_train, X_test, y_train, y_test = train_test_split(X, y, test_size=0.3, random_state=42)\n",
    "X1_train, X1_test, y1_train, y1_test = train_test_split(X1, y, test_size=0.3, random_state=42)\n",
    "X2_train, X2_test, y2_train, y2_test = train_test_split(X2, y, test_size=0.3, random_state=42)\n",
    "X3_train, X3_test, y3_train, y3_test = train_test_split(X3, y, test_size=0.3, random_state=42)"
   ]
  },
  {
   "cell_type": "code",
   "execution_count": 43,
   "metadata": {},
   "outputs": [
    {
     "name": "stdout",
     "output_type": "stream",
     "text": [
      "Test X: 0.7684630738522954\n",
      "Cross validation X:  [0.76786805 0.75626145 0.74648748 0.78239609 0.78789731]\n",
      "Mean X:  0.7681820761635348\n"
     ]
    }
   ],
   "source": [
    "#all the attributes, cv = 5 means we split the data en 5 folds\n",
    "log_reg = LogisticRegression(random_state=0)\n",
    "\n",
    "training_X = log_reg.fit(X_train, y_train)\n",
    "test_X = log_reg.score(X_test, y_test)\n",
    "\n",
    "result_X = cross_val_score(log_reg, X_train, y_train, cv = 5)\n",
    "\n",
    "print(\"Test X:\" , test_X)\n",
    "print(\"Cross validation X: \",result_X)\n",
    "print(\"Mean X: \",result_X.mean())"
   ]
  },
  {
   "cell_type": "code",
   "execution_count": 44,
   "metadata": {},
   "outputs": [
    {
     "name": "stdout",
     "output_type": "stream",
     "text": [
      "Test X1: 0.682919874536641\n",
      "Cross validation X1:  [0.67562615 0.69395235 0.67562615 0.70415648 0.71515892]\n",
      "Mean X1:  0.6929040092123914\n"
     ]
    }
   ],
   "source": [
    "#all the attributes, cv = 5 means we split the data en 5 folds\n",
    "log_reg = LogisticRegression(random_state=0)\n",
    "\n",
    "training_X1 = log_reg.fit(X1_train, y1_train)\n",
    "test_X1 = log_reg.score(X1_test, y1_test)\n",
    "\n",
    "result_X1 = cross_val_score(log_reg, X1_train, y1_train, cv = 5)\n",
    "\n",
    "print(\"Test X1:\" , test_X1)\n",
    "print(\"Cross validation X1: \",result_X1)\n",
    "print(\"Mean X1: \",result_X1.mean())"
   ]
  },
  {
   "cell_type": "code",
   "execution_count": 45,
   "metadata": {},
   "outputs": [
    {
     "name": "stdout",
     "output_type": "stream",
     "text": [
      "Test X2: 0.5155403478756773\n",
      "Cross validation X2:  [0.53451436 0.53329261 0.52351863 0.52872861 0.54584352]\n",
      "Mean X2:  0.5331795445482149\n"
     ]
    }
   ],
   "source": [
    "#all the attributes, cv = 5 means we split the data en 5 folds\n",
    "log_reg = LogisticRegression(random_state=0)\n",
    "\n",
    "training_X2 = log_reg.fit(X2_train, y2_train)\n",
    "test_X2 = log_reg.score(X2_test, y2_test)\n",
    "\n",
    "result_X2 = cross_val_score(log_reg, X2_train, y2_train, cv = 5)\n",
    "\n",
    "print(\"Test X2:\" , test_X2)\n",
    "print(\"Cross validation X2: \",result_X2)\n",
    "print(\"Mean X2: \",result_X2.mean())"
   ]
  },
  {
   "cell_type": "code",
   "execution_count": 46,
   "metadata": {},
   "outputs": [
    {
     "name": "stdout",
     "output_type": "stream",
     "text": [
      "Test X3: 0.5175363558597091\n",
      "Cross validation X3:  [0.49786194 0.526573   0.49602932 0.51528117 0.50244499]\n",
      "Mean X3:  0.5076380850533133\n"
     ]
    }
   ],
   "source": [
    "#all the attributes, cv = 5 means we split the data en 5 folds\n",
    "log_reg = LogisticRegression(random_state=0)\n",
    "\n",
    "training_X3 = log_reg.fit(X3_train, y3_train)\n",
    "test_X3 = log_reg.score(X3_test, y3_test)\n",
    "\n",
    "result_X3 = cross_val_score(log_reg, X3_train, y3_train, cv = 5)\n",
    "\n",
    "print(\"Test X3:\" , test_X3)\n",
    "print(\"Cross validation X3: \",result_X3)\n",
    "print(\"Mean X3: \",result_X3.mean())"
   ]
  },
  {
   "attachments": {},
   "cell_type": "markdown",
   "metadata": {},
   "source": [
    "## Decision tree"
   ]
  },
  {
   "cell_type": "code",
   "execution_count": 47,
   "metadata": {},
   "outputs": [
    {
     "name": "stdout",
     "output_type": "stream",
     "text": [
      "Test X: 0.9056173367550613\n",
      "Cross validation X:  [0.89859499 0.89065363 0.87782529 0.88325183 0.89547677]\n",
      "Mean X:  0.8891605044112836\n"
     ]
    }
   ],
   "source": [
    "from sklearn.tree import DecisionTreeClassifier\n",
    "\n",
    "#all the attributes, cv = 5 means we split the data en 5 folds\n",
    "tree = DecisionTreeClassifier(random_state=0)\n",
    "\n",
    "training_X = tree.fit(X_train, y_train)\n",
    "test_X = tree.score(X_test, y_test)\n",
    "\n",
    "result_X = cross_val_score(tree, X_train, y_train, cv = 5)\n",
    "\n",
    "print(\"Test X:\" , test_X)\n",
    "print(\"Cross validation X: \",result_X)\n",
    "print(\"Mean X: \",result_X.mean())"
   ]
  },
  {
   "cell_type": "code",
   "execution_count": 48,
   "metadata": {},
   "outputs": [
    {
     "name": "stdout",
     "output_type": "stream",
     "text": [
      "Test X1: 0.6849158825206729\n",
      "Cross validation X1:  [0.67929139 0.69334148 0.67562615 0.70537897 0.71577017]\n",
      "Mean X1:  0.6938816309278257\n"
     ]
    }
   ],
   "source": [
    "#all the attributes, cv = 5 means we split the data en 5 folds\n",
    "tree = DecisionTreeClassifier(random_state=0)\n",
    "\n",
    "training_X1 = tree.fit(X1_train, y1_train)\n",
    "test_X1 = tree.score(X1_test, y1_test)\n",
    "\n",
    "result_X1 = cross_val_score(tree, X1_train, y1_train, cv = 5)\n",
    "\n",
    "print(\"Test X1:\" , test_X1)\n",
    "print(\"Cross validation X1: \",result_X1)\n",
    "print(\"Mean X1: \",result_X1.mean())"
   ]
  },
  {
   "cell_type": "code",
   "execution_count": 49,
   "metadata": {},
   "outputs": [
    {
     "name": "stdout",
     "output_type": "stream",
     "text": [
      "Test X2: 0.6621043627031651\n",
      "Cross validation X2:  [0.65852169 0.67379352 0.64263897 0.63691932 0.64853301]\n",
      "Mean X2:  0.6520813014444397\n"
     ]
    }
   ],
   "source": [
    "#all the attributes, cv = 5 means we split the data en 5 folds\n",
    "tree = DecisionTreeClassifier(random_state=0)\n",
    "\n",
    "training_X2 = tree.fit(X2_train, y2_train)\n",
    "test_X2 = tree.score(X2_test, y2_test)\n",
    "\n",
    "result_X2 = cross_val_score(tree, X2_train, y2_train, cv = 5)\n",
    "\n",
    "print(\"Test X2:\" , test_X2)\n",
    "print(\"Cross validation X2: \",result_X2)\n",
    "print(\"Mean X2: \",result_X2.mean())"
   ]
  },
  {
   "cell_type": "code",
   "execution_count": 50,
   "metadata": {},
   "outputs": [
    {
     "name": "stdout",
     "output_type": "stream",
     "text": [
      "Test X3: 0.6746506986027944\n",
      "Cross validation X3:  [0.65485644 0.67073916 0.66218693 0.6601467  0.68337408]\n",
      "Mean X3:  0.6662606622825163\n"
     ]
    }
   ],
   "source": [
    "#all the attributes, cv = 5 means we split the data en 5 folds\n",
    "tree = DecisionTreeClassifier(random_state=0)\n",
    "\n",
    "training_X3 = tree.fit(X3_train, y3_train)\n",
    "test_X3 = tree.score(X3_test, y3_test)\n",
    "\n",
    "result_X3 = cross_val_score(tree, X3_train, y3_train, cv = 5)\n",
    "\n",
    "print(\"Test X3:\" , test_X3)\n",
    "print(\"Cross validation X3: \",result_X3)\n",
    "print(\"Mean X3: \",result_X3.mean())"
   ]
  },
  {
   "attachments": {},
   "cell_type": "markdown",
   "metadata": {},
   "source": [
    "Look for the hyperparameters of the decision tree: criterion, min_samples_leaf, max_depth and random_state."
   ]
  },
  {
   "cell_type": "code",
   "execution_count": 51,
   "metadata": {},
   "outputs": [
    {
     "name": "stdout",
     "output_type": "stream",
     "text": [
      "Best parameters for X:  {'criterion': 'gini', 'max_depth': 12, 'min_samples_leaf': 5, 'random_state': 0}\n",
      "Mean for X:  0.8273274058186825\n",
      "Best parameters for X1:  {'criterion': 'gini', 'max_depth': 4, 'min_samples_leaf': 5, 'random_state': 0}\n",
      "Mean for X1:  0.6937593815390727\n",
      "Best parameters for X2:  {'criterion': 'gini', 'max_depth': 12, 'min_samples_leaf': 5, 'random_state': 0}\n",
      "Mean for X2:  0.6420611082650145\n",
      "Best parameters for X3:  {'criterion': 'gini', 'max_depth': 12, 'min_samples_leaf': 5, 'random_state': 0}\n",
      "Mean for X3:  0.6392551972792976\n"
     ]
    }
   ],
   "source": [
    "\n",
    "searching_X = GridSearchCV(tree, parameters, cv=5)\n",
    "searching_X.fit(X_train, y_train)\n",
    "\n",
    "searching_X1 = GridSearchCV(tree, parameters, cv=5)\n",
    "searching_X1.fit(X1_train, y1_train)\n",
    "\n",
    "searching_X2 = GridSearchCV(tree, parameters, cv=5)\n",
    "searching_X2.fit(X2_train, y2_train)\n",
    "\n",
    "searching_X3 = GridSearchCV(tree, parameters, cv=5)\n",
    "searching_X3.fit(X3_train, y3_train)\n",
    "\n",
    "from sklearn.model_selection import GridSearchCV\n",
    "\n",
    "parameters = {'criterion': ['gini', 'entropy'], 'min_samples_leaf': [5, 10, 50, 100, 150, 200],\n",
    "              'max_depth': [2, 4, 6, 8, 10, 12], 'random_state': [0, 10, 42]}\n",
    "\n",
    "tree = DecisionTreeClassifier()\n",
    "\n",
    "print(\"Best parameters for X: \", searching_X.best_params_)\n",
    "print(\"Mean for X: \", searching_X.best_score_)\n",
    "\n",
    "print(\"Best parameters for X1: \", searching_X1.best_params_)\n",
    "print(\"Mean for X1: \", searching_X1.best_score_)\n",
    "\n",
    "print(\"Best parameters for X2: \", searching_X2.best_params_)\n",
    "print(\"Mean for X2: \", searching_X2.best_score_)\n",
    "\n",
    "print(\"Best parameters for X3: \", searching_X3.best_params_)\n",
    "print(\"Mean for X3: \", searching_X3.best_score_)"
   ]
  },
  {
   "attachments": {},
   "cell_type": "markdown",
   "metadata": {},
   "source": [
    "## Random Forest"
   ]
  },
  {
   "cell_type": "code",
   "execution_count": 52,
   "metadata": {},
   "outputs": [
    {
     "name": "stdout",
     "output_type": "stream",
     "text": [
      "Test X: 0.9572284003421728\n",
      "Cross validation X:  [0.9492975  0.94013439 0.91875382 0.94315403 0.94376528]\n",
      "Mean X:  0.9390210041924746\n"
     ]
    }
   ],
   "source": [
    "from sklearn.ensemble import RandomForestClassifier\n",
    "\n",
    "#all the attributes, cv = 5 means we split the data en 5 folds\n",
    "forest = RandomForestClassifier(random_state=0)\n",
    "\n",
    "training_X = forest.fit(X_train, y_train)\n",
    "test_X = forest.score(X_test, y_test)\n",
    "\n",
    "result_X = cross_val_score(forest, X_train, y_train, cv = 5)\n",
    "\n",
    "print(\"Test X:\" , test_X)\n",
    "print(\"Cross validation X: \",result_X)\n",
    "print(\"Mean X: \",result_X.mean())"
   ]
  },
  {
   "cell_type": "code",
   "execution_count": 53,
   "metadata": {},
   "outputs": [
    {
     "name": "stdout",
     "output_type": "stream",
     "text": [
      "Test X1: 0.6849158825206729\n",
      "Cross validation X1:  [0.67868051 0.69334148 0.67562615 0.70476773 0.71638142]\n",
      "Mean X1:  0.6937594562179907\n"
     ]
    }
   ],
   "source": [
    "forest = RandomForestClassifier(random_state=0)\n",
    "\n",
    "training_X1 = forest.fit(X1_train, y1_train)\n",
    "test_X1 = forest.score(X1_test, y1_test)\n",
    "\n",
    "result_X1 = cross_val_score(forest, X1_train, y1_train, cv = 5)\n",
    "\n",
    "print(\"Test X1:\" , test_X1)\n",
    "print(\"Cross validation X1: \",result_X1)\n",
    "print(\"Mean X1: \",result_X1.mean())"
   ]
  },
  {
   "cell_type": "code",
   "execution_count": 54,
   "metadata": {},
   "outputs": [
    {
     "name": "stdout",
     "output_type": "stream",
     "text": [
      "Test X2: 0.6626746506986028\n",
      "Cross validation X2:  [0.65058033 0.67318265 0.64080635 0.63508557 0.65158924]\n",
      "Mean X2:  0.6502488301547498\n"
     ]
    }
   ],
   "source": [
    "forest = RandomForestClassifier(random_state=0)\n",
    "\n",
    "training_X2 = forest.fit(X2_train, y2_train)\n",
    "test_X2 = forest.score(X2_test, y2_test)\n",
    "\n",
    "result_X2 = cross_val_score(forest, X2_train, y2_train, cv = 5)\n",
    "\n",
    "print(\"Test X2:\" , test_X2)\n",
    "print(\"Cross validation X2: \",result_X2)\n",
    "print(\"Mean X2: \",result_X2.mean())"
   ]
  },
  {
   "cell_type": "code",
   "execution_count": 55,
   "metadata": {},
   "outputs": [
    {
     "name": "stdout",
     "output_type": "stream",
     "text": [
      "Test X3: 0.675506130595951\n",
      "Cross validation X3:  [0.6536347  0.67257178 0.6652413  0.66136919 0.68154034]\n",
      "Mean X3:  0.6668714611527736\n"
     ]
    }
   ],
   "source": [
    "forest = RandomForestClassifier(random_state=0)\n",
    "\n",
    "training_X3 = forest.fit(X3_train, y3_train)\n",
    "test_X3 = forest.score(X3_test, y3_test)\n",
    "\n",
    "result_X3 = cross_val_score(forest, X3_train, y3_train, cv = 5)\n",
    "\n",
    "print(\"Test X3:\" , test_X3)\n",
    "print(\"Cross validation X3: \",result_X3)\n",
    "print(\"Mean X3: \",result_X3.mean())"
   ]
  },
  {
   "attachments": {},
   "cell_type": "markdown",
   "metadata": {},
   "source": [
    "Look for some of the hyperparameters of the random forest: n_estimators, min_samples_leaf, max_features."
   ]
  },
  {
   "cell_type": "code",
   "execution_count": 56,
   "metadata": {},
   "outputs": [
    {
     "name": "stdout",
     "output_type": "stream",
     "text": [
      "Best parameters for X:  {'max_features': 'sqrt', 'min_samples_leaf': 5, 'n_estimators': 150}\n",
      "Mean for X:  0.8994272873779187\n",
      "Best parameters for X1:  {'max_features': 'sqrt', 'min_samples_leaf': 5, 'n_estimators': 50}\n",
      "Mean for X1:  0.6937593815390727\n",
      "Best parameters for X2:  {'max_features': 'sqrt', 'min_samples_leaf': 5, 'n_estimators': 100}\n",
      "Mean for X2:  0.6470710928363501\n",
      "Best parameters for X3:  {'max_features': 'sqrt', 'min_samples_leaf': 5, 'n_estimators': 150}\n",
      "Mean for X3:  0.6641834681785663\n"
     ]
    }
   ],
   "source": [
    "parameters = {'min_samples_leaf': [5, 10, 50, 100, 150, 200], \n",
    "              'n_estimators': [50, 100, 150, 200], 'max_features': ['sqrt', 'log2']}\n",
    "\n",
    "forest = RandomForestClassifier(random_state=0)\n",
    "\n",
    "searching_X = GridSearchCV(forest, parameters, cv=5)\n",
    "searching_X.fit(X_train, y_train)\n",
    "searching_X1= GridSearchCV(forest, parameters, cv=5)\n",
    "searching_X1.fit(X1_train, y1_train)\n",
    "searching_X2 = GridSearchCV(forest, parameters, cv=5)\n",
    "searching_X2.fit(X2_train, y_train)\n",
    "searching_X3 = GridSearchCV(forest, parameters, cv=5)\n",
    "searching_X3.fit(X3_train, y_train)\n",
    "\n",
    "print(\"Best parameters for X: \", searching_X.best_params_)\n",
    "print(\"Mean for X: \", searching_X.best_score_)\n",
    "\n",
    "print(\"Best parameters for X1: \", searching_X1.best_params_)\n",
    "print(\"Mean for X1: \", searching_X1.best_score_)\n",
    "\n",
    "print(\"Best parameters for X2: \", searching_X2.best_params_)\n",
    "print(\"Mean for X2: \", searching_X2.best_score_)\n",
    "\n",
    "print(\"Best parameters for X3: \", searching_X3.best_params_)\n",
    "print(\"Mean for X3: \", searching_X3.best_score_)"
   ]
  },
  {
   "attachments": {},
   "cell_type": "markdown",
   "metadata": {},
   "source": [
    "## SVM"
   ]
  },
  {
   "cell_type": "code",
   "execution_count": 57,
   "metadata": {},
   "outputs": [
    {
     "name": "stdout",
     "output_type": "stream",
     "text": [
      "Test X: 0.8003992015968064\n",
      "Cross validation X:  [0.81368357 0.79657911 0.78924863 0.80684597 0.799511  ]\n",
      "Mean X:  0.8011736538751638\n"
     ]
    }
   ],
   "source": [
    "from sklearn.svm import SVC\n",
    "from sklearn.metrics import accuracy_score\n",
    "\n",
    "polynomial = SVC(kernel='poly', random_state = 0)\n",
    "\n",
    "training_X = polynomial.fit(X_train,y_train)\n",
    "test_X = polynomial.score(X_test, y_test)\n",
    "\n",
    "result_X = cross_val_score(polynomial, X_train, y_train, cv = 5)\n",
    "\n",
    "print(\"Test X:\" , test_X)\n",
    "print(\"Cross validation X: \",result_X)\n",
    "print(\"Mean X: \",result_X.mean())"
   ]
  },
  {
   "cell_type": "code",
   "execution_count": 58,
   "metadata": {},
   "outputs": [
    {
     "name": "stdout",
     "output_type": "stream",
     "text": [
      "Test X1: 0.6812090105503279\n",
      "Cross validation X1:  [0.6744044  0.69395235 0.67501527 0.70354523 0.71210269]\n",
      "Mean X1:  0.6918039887503677\n"
     ]
    }
   ],
   "source": [
    "polynomial = SVC(kernel='poly', random_state = 0)\n",
    "\n",
    "training_X1 = polynomial.fit(X1_train,y1_train)\n",
    "test_X1 = polynomial.score(X1_test, y1_test)\n",
    "\n",
    "result_X1 = cross_val_score(polynomial, X1_train, y1_train, cv = 5)\n",
    "\n",
    "print(\"Test X1:\" , test_X1)\n",
    "print(\"Cross validation X1: \",result_X1)\n",
    "print(\"Mean X1: \",result_X1.mean())"
   ]
  },
  {
   "cell_type": "code",
   "execution_count": 59,
   "metadata": {},
   "outputs": [
    {
     "name": "stdout",
     "output_type": "stream",
     "text": [
      "Test X2: 0.5446250356429997\n",
      "Cross validation X2:  [0.55528406 0.56017104 0.52229688 0.53545232 0.54462103]\n",
      "Mean X2:  0.5435650669944574\n"
     ]
    }
   ],
   "source": [
    "polynomial = SVC(kernel='poly', random_state = 0)\n",
    "\n",
    "training_X2 = polynomial.fit(X2_train,y2_train)\n",
    "test_X2 = polynomial.score(X2_test, y2_test)\n",
    "\n",
    "result_X2 = cross_val_score(polynomial, X2_train, y2_train, cv = 5)\n",
    "\n",
    "print(\"Test X2:\" , test_X2)\n",
    "print(\"Cross validation X2: \",result_X2)\n",
    "print(\"Mean X2: \",result_X2.mean())"
   ]
  },
  {
   "cell_type": "code",
   "execution_count": 60,
   "metadata": {},
   "outputs": [
    {
     "name": "stdout",
     "output_type": "stream",
     "text": [
      "Test X3: 0.5289421157684631\n",
      "Cross validation X3:  [0.52840562 0.53634698 0.53145999 0.52444988 0.52628362]\n",
      "Mean X3:  0.5293892160655262\n"
     ]
    }
   ],
   "source": [
    "polynomial = SVC(kernel='poly', random_state = 0)\n",
    "\n",
    "training_X3 = polynomial.fit(X3_train,y3_train)\n",
    "test_X3 = polynomial.score(X3_test, y3_test)\n",
    "\n",
    "result_X3 = cross_val_score(polynomial, X3_train, y3_train, cv = 5)\n",
    "\n",
    "print(\"Test X3:\" , test_X3)\n",
    "print(\"Cross validation X3: \",result_X3)\n",
    "print(\"Mean X3: \",result_X3.mean())"
   ]
  },
  {
   "attachments": {},
   "cell_type": "markdown",
   "metadata": {},
   "source": [
    "Look for the hyperparameters of the polynomial kernel: $\\gamma$, $r$ and $d$."
   ]
  },
  {
   "cell_type": "code",
   "execution_count": 61,
   "metadata": {},
   "outputs": [],
   "source": [
    "# parameters = {'degree': [2, 3, 4],\n",
    "#               'gamma': [0.1, 1, 10],\n",
    "#               'coef0': [0, 1, 2]}\n",
    "\n",
    "# polynomial = SVC(kernel='poly', random_state = 0)\n",
    "\n",
    "# searching_X = GridSearchCV(polynomial, parameters, cv=5)\n",
    "# searching_X.fit(X_train, y_train)\n",
    "\n",
    "# print(\"Best parameters for X: \", searching_X.best_params_)\n",
    "# print(\"Mean for X: \", searching_X.best_score_)\n",
    "\n",
    "# y_predicted = searching_X.predict(X_test)\n",
    "# accuracy = accuracy_score(y_test, y_predicted)"
   ]
  },
  {
   "attachments": {},
   "cell_type": "markdown",
   "metadata": {},
   "source": [
    "## All the results"
   ]
  },
  {
   "cell_type": "code",
   "execution_count": 65,
   "metadata": {},
   "outputs": [],
   "source": [
    "# X = dating_ready.drop(['match_1'], axis = 1) #all the attributes\n",
    "# X1 = X[['like', 'met']] \n",
    "# X2 = X[['shopping', 'concerts', 'clubbing']]\n",
    "# X3 = X[['sports', 'tvsports', 'hiking', 'exercise']]\n",
    "\n",
    "from tabulate import tabulate \n",
    "#create data\n",
    "data = [[\"X\", 0.770, 0.772, 0.909, 0.889, 0.829, 0.956, 0.938, 0.898, 0.795, 0.805],\n",
    "        [\"X1\", 0.681, 0.694, 0.681, 0.695, 0.695, 0.681, 0.695, 0.695, 0.677, 0.692],\n",
    "        [\"X2\", 0.530, 0.536, 0.651, 0.643, 0.635, 0.650, 0.644, 0.645, 0.545, 0.548],\n",
    "        [\"X3\", 0.514, 0.509, 0.679, 0.664, 0.640, 0.674, 0.664, 0.666, 0.522, 0.519]\n",
    "        ]\n",
    "  \n",
    "#define header names\n",
    "col_names = [\"Features\", \"Log Reg\", \"Log Reg CV\", \"Dec Tree\", \"Dec Tree CV\", \"Dec Tree Hyp\",\n",
    "             \"Rand Forest\", \"Rand Forest CV\", \"Rand Forest Hyp\", \"Poly\", \"Poly CV\"]\n",
    "  "
   ]
  },
  {
   "cell_type": "code",
   "execution_count": 66,
   "metadata": {},
   "outputs": [],
   "source": [
    "import pandas as pd\n",
    "resume = pd.DataFrame(data, columns=[\"Features\", \"Log Reg\", \"Log Reg CV\", \"Dec Tree\", \"Dec Tree CV\", \"Dec Tree Hyp\",\n",
    "             \"Rand Forest\", \"Rand Forest CV\", \"Rand Forest Hyp\", \"Poly\", \"Poly CV\"])"
   ]
  },
  {
   "cell_type": "code",
   "execution_count": 67,
   "metadata": {},
   "outputs": [
    {
     "data": {
      "text/html": [
       "<div>\n",
       "<style scoped>\n",
       "    .dataframe tbody tr th:only-of-type {\n",
       "        vertical-align: middle;\n",
       "    }\n",
       "\n",
       "    .dataframe tbody tr th {\n",
       "        vertical-align: top;\n",
       "    }\n",
       "\n",
       "    .dataframe thead th {\n",
       "        text-align: right;\n",
       "    }\n",
       "</style>\n",
       "<table border=\"1\" class=\"dataframe\">\n",
       "  <thead>\n",
       "    <tr style=\"text-align: right;\">\n",
       "      <th></th>\n",
       "      <th>Features</th>\n",
       "      <th>Log Reg</th>\n",
       "      <th>Log Reg CV</th>\n",
       "      <th>Dec Tree</th>\n",
       "      <th>Dec Tree CV</th>\n",
       "      <th>Dec Tree Hyp</th>\n",
       "      <th>Rand Forest</th>\n",
       "      <th>Rand Forest CV</th>\n",
       "      <th>Rand Forest Hyp</th>\n",
       "      <th>Poly</th>\n",
       "      <th>Poly CV</th>\n",
       "    </tr>\n",
       "  </thead>\n",
       "  <tbody>\n",
       "    <tr>\n",
       "      <th>0</th>\n",
       "      <td>X</td>\n",
       "      <td>0.770</td>\n",
       "      <td>0.772</td>\n",
       "      <td>0.909</td>\n",
       "      <td>0.889</td>\n",
       "      <td>0.829</td>\n",
       "      <td>0.956</td>\n",
       "      <td>0.938</td>\n",
       "      <td>0.898</td>\n",
       "      <td>0.795</td>\n",
       "      <td>0.805</td>\n",
       "    </tr>\n",
       "    <tr>\n",
       "      <th>1</th>\n",
       "      <td>X1</td>\n",
       "      <td>0.681</td>\n",
       "      <td>0.694</td>\n",
       "      <td>0.681</td>\n",
       "      <td>0.695</td>\n",
       "      <td>0.695</td>\n",
       "      <td>0.681</td>\n",
       "      <td>0.695</td>\n",
       "      <td>0.695</td>\n",
       "      <td>0.677</td>\n",
       "      <td>0.692</td>\n",
       "    </tr>\n",
       "    <tr>\n",
       "      <th>2</th>\n",
       "      <td>X2</td>\n",
       "      <td>0.530</td>\n",
       "      <td>0.536</td>\n",
       "      <td>0.651</td>\n",
       "      <td>0.643</td>\n",
       "      <td>0.635</td>\n",
       "      <td>0.650</td>\n",
       "      <td>0.644</td>\n",
       "      <td>0.645</td>\n",
       "      <td>0.545</td>\n",
       "      <td>0.548</td>\n",
       "    </tr>\n",
       "    <tr>\n",
       "      <th>3</th>\n",
       "      <td>X3</td>\n",
       "      <td>0.514</td>\n",
       "      <td>0.509</td>\n",
       "      <td>0.679</td>\n",
       "      <td>0.664</td>\n",
       "      <td>0.640</td>\n",
       "      <td>0.674</td>\n",
       "      <td>0.664</td>\n",
       "      <td>0.666</td>\n",
       "      <td>0.522</td>\n",
       "      <td>0.519</td>\n",
       "    </tr>\n",
       "  </tbody>\n",
       "</table>\n",
       "</div>"
      ],
      "text/plain": [
       "  Features  Log Reg  Log Reg CV  Dec Tree  Dec Tree CV  Dec Tree Hyp  \\\n",
       "0        X    0.770       0.772     0.909        0.889         0.829   \n",
       "1       X1    0.681       0.694     0.681        0.695         0.695   \n",
       "2       X2    0.530       0.536     0.651        0.643         0.635   \n",
       "3       X3    0.514       0.509     0.679        0.664         0.640   \n",
       "\n",
       "   Rand Forest  Rand Forest CV  Rand Forest Hyp   Poly  Poly CV  \n",
       "0        0.956           0.938            0.898  0.795    0.805  \n",
       "1        0.681           0.695            0.695  0.677    0.692  \n",
       "2        0.650           0.644            0.645  0.545    0.548  \n",
       "3        0.674           0.664            0.666  0.522    0.519  "
      ]
     },
     "execution_count": 67,
     "metadata": {},
     "output_type": "execute_result"
    }
   ],
   "source": [
    "resume.head()"
   ]
  },
  {
   "attachments": {},
   "cell_type": "markdown",
   "metadata": {},
   "source": [
    "# Clustering"
   ]
  },
  {
   "cell_type": "code",
   "execution_count": 68,
   "metadata": {},
   "outputs": [],
   "source": [
    "from sklearn.cluster import KMeans\n",
    "from sklearn.preprocessing import StandardScaler \n",
    "from sklearn.preprocessing import MinMaxScaler \n",
    "import matplotlib.pyplot as plt"
   ]
  },
  {
   "cell_type": "code",
   "execution_count": 69,
   "metadata": {},
   "outputs": [],
   "source": [
    "# X = dating_ready.drop(['match_1'], axis = 1) #all the attributes\n",
    "X_norm = StandardScaler().fit_transform(X) #use X, the balanced dataset"
   ]
  },
  {
   "cell_type": "code",
   "execution_count": 70,
   "metadata": {},
   "outputs": [
    {
     "data": {
      "text/plain": [
       "(11690, 63)"
      ]
     },
     "execution_count": 70,
     "metadata": {},
     "output_type": "execute_result"
    }
   ],
   "source": [
    "X_norm.shape"
   ]
  },
  {
   "cell_type": "code",
   "execution_count": 71,
   "metadata": {},
   "outputs": [],
   "source": [
    "wcss = []\n",
    "\n",
    "for i in range(1,11):\n",
    "    kmeans = KMeans(n_clusters=i, max_iter=300)\n",
    "    kmeans.fit(X_norm)\n",
    "    wcss.append(kmeans.inertia_)"
   ]
  },
  {
   "cell_type": "code",
   "execution_count": 72,
   "metadata": {},
   "outputs": [
    {
     "data": {
      "image/png": "[encoded data removed]",
      "text/plain": [
       "<Figure size 640x480 with 1 Axes>"
      ]
     },
     "metadata": {},
     "output_type": "display_data"
    }
   ],
   "source": [
    "plt.plot(range(1,11),wcss)\n",
    "plt.title('Finding K')\n",
    "plt.xlabel('Number of clusters')\n",
    "plt.ylabel('WCSS')\n",
    "plt.show()"
   ]
  },
  {
   "attachments": {},
   "cell_type": "markdown",
   "metadata": {},
   "source": [
    "From the graph K=3"
   ]
  },
  {
   "cell_type": "code",
   "execution_count": 73,
   "metadata": {},
   "outputs": [
    {
     "data": {
      "text/html": [
       "<style>#sk-container-id-2 {color: black;background-color: white;}#sk-container-id-2 pre{padding: 0;}#sk-container-id-2 div.sk-toggleable {background-color: white;}#sk-container-id-2 label.sk-toggleable__label {cursor: pointer;display: block;width: 100%;margin-bottom: 0;padding: 0.3em;box-sizing: border-box;text-align: center;}#sk-container-id-2 label.sk-toggleable__label-arrow:before {content: \"▸\";float: left;margin-right: 0.25em;color: #696969;}#sk-container-id-2 label.sk-toggleable__label-arrow:hover:before {color: black;}#sk-container-id-2 div.sk-estimator:hover label.sk-toggleable__label-arrow:before {color: black;}#sk-container-id-2 div.sk-toggleable__content {max-height: 0;max-width: 0;overflow: hidden;text-align: left;background-color: #f0f8ff;}#sk-container-id-2 div.sk-toggleable__content pre {margin: 0.2em;color: black;border-radius: 0.25em;background-color: #f0f8ff;}#sk-container-id-2 input.sk-toggleable__control:checked~div.sk-toggleable__content {max-height: 200px;max-width: 100%;overflow: auto;}#sk-container-id-2 input.sk-toggleable__control:checked~label.sk-toggleable__label-arrow:before {content: \"▾\";}#sk-container-id-2 div.sk-estimator input.sk-toggleable__control:checked~label.sk-toggleable__label {background-color: #d4ebff;}#sk-container-id-2 div.sk-label input.sk-toggleable__control:checked~label.sk-toggleable__label {background-color: #d4ebff;}#sk-container-id-2 input.sk-hidden--visually {border: 0;clip: rect(1px 1px 1px 1px);clip: rect(1px, 1px, 1px, 1px);height: 1px;margin: -1px;overflow: hidden;padding: 0;position: absolute;width: 1px;}#sk-container-id-2 div.sk-estimator {font-family: monospace;background-color: #f0f8ff;border: 1px dotted black;border-radius: 0.25em;box-sizing: border-box;margin-bottom: 0.5em;}#sk-container-id-2 div.sk-estimator:hover {background-color: #d4ebff;}#sk-container-id-2 div.sk-parallel-item::after {content: \"\";width: 100%;border-bottom: 1px solid gray;flex-grow: 1;}#sk-container-id-2 div.sk-label:hover label.sk-toggleable__label {background-color: #d4ebff;}#sk-container-id-2 div.sk-serial::before {content: \"\";position: absolute;border-left: 1px solid gray;box-sizing: border-box;top: 0;bottom: 0;left: 50%;z-index: 0;}#sk-container-id-2 div.sk-serial {display: flex;flex-direction: column;align-items: center;background-color: white;padding-right: 0.2em;padding-left: 0.2em;position: relative;}#sk-container-id-2 div.sk-item {position: relative;z-index: 1;}#sk-container-id-2 div.sk-parallel {display: flex;align-items: stretch;justify-content: center;background-color: white;position: relative;}#sk-container-id-2 div.sk-item::before, #sk-container-id-2 div.sk-parallel-item::before {content: \"\";position: absolute;border-left: 1px solid gray;box-sizing: border-box;top: 0;bottom: 0;left: 50%;z-index: -1;}#sk-container-id-2 div.sk-parallel-item {display: flex;flex-direction: column;z-index: 1;position: relative;background-color: white;}#sk-container-id-2 div.sk-parallel-item:first-child::after {align-self: flex-end;width: 50%;}#sk-container-id-2 div.sk-parallel-item:last-child::after {align-self: flex-start;width: 50%;}#sk-container-id-2 div.sk-parallel-item:only-child::after {width: 0;}#sk-container-id-2 div.sk-dashed-wrapped {border: 1px dashed gray;margin: 0 0.4em 0.5em 0.4em;box-sizing: border-box;padding-bottom: 0.4em;background-color: white;}#sk-container-id-2 div.sk-label label {font-family: monospace;font-weight: bold;display: inline-block;line-height: 1.2em;}#sk-container-id-2 div.sk-label-container {text-align: center;}#sk-container-id-2 div.sk-container {/* jupyter's `normalize.less` sets `[hidden] { display: none; }` but bootstrap.min.css set `[hidden] { display: none !important; }` so we also need the `!important` here to be able to override the default hidden behavior on the sphinx rendered scikit-learn.org. See: https://github.com/scikit-learn/scikit-learn/issues/21755 */display: inline-block !important;position: relative;}#sk-container-id-2 div.sk-text-repr-fallback {display: none;}</style><div id=\"sk-container-id-2\" class=\"sk-top-container\"><div class=\"sk-text-repr-fallback\"><pre>KMeans(n_clusters=3)</pre><b>In a Jupyter environment, please rerun this cell to show the HTML representation or trust the notebook. <br />On GitHub, the HTML representation is unable to render, please try loading this page with nbviewer.org.</b></div><div class=\"sk-container\" hidden><div class=\"sk-item\"><div class=\"sk-estimator sk-toggleable\"><input class=\"sk-toggleable__control sk-hidden--visually\" id=\"sk-estimator-id-2\" type=\"checkbox\" checked><label for=\"sk-estimator-id-2\" class=\"sk-toggleable__label sk-toggleable__label-arrow\">KMeans</label><div class=\"sk-toggleable__content\"><pre>KMeans(n_clusters=3)</pre></div></div></div></div></div>"
      ],
      "text/plain": [
       "KMeans(n_clusters=3)"
      ]
     },
     "execution_count": 73,
     "metadata": {},
     "output_type": "execute_result"
    }
   ],
   "source": [
    "clustering = KMeans(n_clusters=3, max_iter=300)\n",
    "clustering.fit(X_norm)"
   ]
  },
  {
   "cell_type": "code",
   "execution_count": 74,
   "metadata": {},
   "outputs": [],
   "source": [
    "X['Kmeans_Clusters'] = clustering.labels_"
   ]
  },
  {
   "cell_type": "code",
   "execution_count": 75,
   "metadata": {},
   "outputs": [
    {
     "data": {
      "text/html": [
       "<div>\n",
       "<style scoped>\n",
       "    .dataframe tbody tr th:only-of-type {\n",
       "        vertical-align: middle;\n",
       "    }\n",
       "\n",
       "    .dataframe tbody tr th {\n",
       "        vertical-align: top;\n",
       "    }\n",
       "\n",
       "    .dataframe thead th {\n",
       "        text-align: right;\n",
       "    }\n",
       "</style>\n",
       "<table border=\"1\" class=\"dataframe\">\n",
       "  <thead>\n",
       "    <tr style=\"text-align: right;\">\n",
       "      <th></th>\n",
       "      <th>wave</th>\n",
       "      <th>importance_same_race</th>\n",
       "      <th>importance_same_religion</th>\n",
       "      <th>pref_o_attractive</th>\n",
       "      <th>pref_o_sincere</th>\n",
       "      <th>pref_o_intelligence</th>\n",
       "      <th>pref_o_funny</th>\n",
       "      <th>pref_o_ambitious</th>\n",
       "      <th>pref_o_shared_interests</th>\n",
       "      <th>attractive_o</th>\n",
       "      <th>...</th>\n",
       "      <th>race_European/Caucasian-American</th>\n",
       "      <th>race_Latino/Hispanic American</th>\n",
       "      <th>race_Other</th>\n",
       "      <th>race_o_Black/African American</th>\n",
       "      <th>race_o_European/Caucasian-American</th>\n",
       "      <th>race_o_Latino/Hispanic American</th>\n",
       "      <th>race_o_Other</th>\n",
       "      <th>samerace_1</th>\n",
       "      <th>Kmeans_Clusters</th>\n",
       "      <th>MATCH</th>\n",
       "    </tr>\n",
       "  </thead>\n",
       "  <tbody>\n",
       "    <tr>\n",
       "      <th>0</th>\n",
       "      <td>1.0</td>\n",
       "      <td>2.0</td>\n",
       "      <td>4.0</td>\n",
       "      <td>35.0</td>\n",
       "      <td>20.0</td>\n",
       "      <td>20.0</td>\n",
       "      <td>20.0</td>\n",
       "      <td>0.0</td>\n",
       "      <td>5.0</td>\n",
       "      <td>6.0</td>\n",
       "      <td>...</td>\n",
       "      <td>0</td>\n",
       "      <td>0</td>\n",
       "      <td>0</td>\n",
       "      <td>0</td>\n",
       "      <td>1</td>\n",
       "      <td>0</td>\n",
       "      <td>0</td>\n",
       "      <td>0</td>\n",
       "      <td>2</td>\n",
       "      <td>0</td>\n",
       "    </tr>\n",
       "    <tr>\n",
       "      <th>1</th>\n",
       "      <td>1.0</td>\n",
       "      <td>2.0</td>\n",
       "      <td>4.0</td>\n",
       "      <td>60.0</td>\n",
       "      <td>0.0</td>\n",
       "      <td>0.0</td>\n",
       "      <td>40.0</td>\n",
       "      <td>0.0</td>\n",
       "      <td>0.0</td>\n",
       "      <td>7.0</td>\n",
       "      <td>...</td>\n",
       "      <td>0</td>\n",
       "      <td>0</td>\n",
       "      <td>0</td>\n",
       "      <td>0</td>\n",
       "      <td>1</td>\n",
       "      <td>0</td>\n",
       "      <td>0</td>\n",
       "      <td>0</td>\n",
       "      <td>2</td>\n",
       "      <td>0</td>\n",
       "    </tr>\n",
       "    <tr>\n",
       "      <th>2</th>\n",
       "      <td>1.0</td>\n",
       "      <td>2.0</td>\n",
       "      <td>4.0</td>\n",
       "      <td>30.0</td>\n",
       "      <td>5.0</td>\n",
       "      <td>15.0</td>\n",
       "      <td>40.0</td>\n",
       "      <td>5.0</td>\n",
       "      <td>5.0</td>\n",
       "      <td>7.0</td>\n",
       "      <td>...</td>\n",
       "      <td>0</td>\n",
       "      <td>0</td>\n",
       "      <td>0</td>\n",
       "      <td>0</td>\n",
       "      <td>1</td>\n",
       "      <td>0</td>\n",
       "      <td>0</td>\n",
       "      <td>0</td>\n",
       "      <td>2</td>\n",
       "      <td>1</td>\n",
       "    </tr>\n",
       "    <tr>\n",
       "      <th>3</th>\n",
       "      <td>1.0</td>\n",
       "      <td>2.0</td>\n",
       "      <td>4.0</td>\n",
       "      <td>30.0</td>\n",
       "      <td>10.0</td>\n",
       "      <td>20.0</td>\n",
       "      <td>10.0</td>\n",
       "      <td>10.0</td>\n",
       "      <td>20.0</td>\n",
       "      <td>8.0</td>\n",
       "      <td>...</td>\n",
       "      <td>0</td>\n",
       "      <td>0</td>\n",
       "      <td>0</td>\n",
       "      <td>0</td>\n",
       "      <td>0</td>\n",
       "      <td>1</td>\n",
       "      <td>0</td>\n",
       "      <td>0</td>\n",
       "      <td>2</td>\n",
       "      <td>1</td>\n",
       "    </tr>\n",
       "    <tr>\n",
       "      <th>4</th>\n",
       "      <td>1.0</td>\n",
       "      <td>2.0</td>\n",
       "      <td>4.0</td>\n",
       "      <td>50.0</td>\n",
       "      <td>0.0</td>\n",
       "      <td>30.0</td>\n",
       "      <td>10.0</td>\n",
       "      <td>0.0</td>\n",
       "      <td>10.0</td>\n",
       "      <td>7.0</td>\n",
       "      <td>...</td>\n",
       "      <td>0</td>\n",
       "      <td>0</td>\n",
       "      <td>0</td>\n",
       "      <td>0</td>\n",
       "      <td>1</td>\n",
       "      <td>0</td>\n",
       "      <td>0</td>\n",
       "      <td>0</td>\n",
       "      <td>0</td>\n",
       "      <td>0</td>\n",
       "    </tr>\n",
       "  </tbody>\n",
       "</table>\n",
       "<p>5 rows × 63 columns</p>\n",
       "</div>"
      ],
      "text/plain": [
       "   wave  importance_same_race  importance_same_religion  pref_o_attractive  \\\n",
       "0   1.0                   2.0                       4.0               35.0   \n",
       "1   1.0                   2.0                       4.0               60.0   \n",
       "2   1.0                   2.0                       4.0               30.0   \n",
       "3   1.0                   2.0                       4.0               30.0   \n",
       "4   1.0                   2.0                       4.0               50.0   \n",
       "\n",
       "   pref_o_sincere  pref_o_intelligence  pref_o_funny  pref_o_ambitious  \\\n",
       "0            20.0                 20.0          20.0               0.0   \n",
       "1             0.0                  0.0          40.0               0.0   \n",
       "2             5.0                 15.0          40.0               5.0   \n",
       "3            10.0                 20.0          10.0              10.0   \n",
       "4             0.0                 30.0          10.0               0.0   \n",
       "\n",
       "   pref_o_shared_interests  attractive_o  ...  \\\n",
       "0                      5.0           6.0  ...   \n",
       "1                      0.0           7.0  ...   \n",
       "2                      5.0           7.0  ...   \n",
       "3                     20.0           8.0  ...   \n",
       "4                     10.0           7.0  ...   \n",
       "\n",
       "   race_European/Caucasian-American  race_Latino/Hispanic American  \\\n",
       "0                                 0                              0   \n",
       "1                                 0                              0   \n",
       "2                                 0                              0   \n",
       "3                                 0                              0   \n",
       "4                                 0                              0   \n",
       "\n",
       "   race_Other  race_o_Black/African American  \\\n",
       "0           0                              0   \n",
       "1           0                              0   \n",
       "2           0                              0   \n",
       "3           0                              0   \n",
       "4           0                              0   \n",
       "\n",
       "   race_o_European/Caucasian-American  race_o_Latino/Hispanic American  \\\n",
       "0                                   1                                0   \n",
       "1                                   1                                0   \n",
       "2                                   1                                0   \n",
       "3                                   0                                1   \n",
       "4                                   1                                0   \n",
       "\n",
       "   race_o_Other  samerace_1  Kmeans_Clusters  MATCH  \n",
       "0             0           0                2      0  \n",
       "1             0           0                2      0  \n",
       "2             0           0                2      1  \n",
       "3             0           0                2      1  \n",
       "4             0           0                0      0  \n",
       "\n",
       "[5 rows x 63 columns]"
      ]
     },
     "execution_count": 75,
     "metadata": {},
     "output_type": "execute_result"
    }
   ],
   "source": [
    "X.head()"
   ]
  },
  {
   "cell_type": "code",
   "execution_count": 76,
   "metadata": {},
   "outputs": [
    {
     "data": {
      "text/plain": [
       "(11690, 63)"
      ]
     },
     "execution_count": 76,
     "metadata": {},
     "output_type": "execute_result"
    }
   ],
   "source": [
    "X.shape"
   ]
  },
  {
   "cell_type": "code",
   "execution_count": 77,
   "metadata": {},
   "outputs": [
    {
     "data": {
      "image/png": "[encoded data removed]",
      "text/plain": [
       "<Figure size 600x600 with 1 Axes>"
      ]
     },
     "metadata": {},
     "output_type": "display_data"
    }
   ],
   "source": [
    "import numpy as np\n",
    "fig = plt.figure(figsize = (6,6))\n",
    "\n",
    "ax = fig.add_subplot (1,1,1)\n",
    "ax.set_xlabel('Componente 1')\n",
    "ax.set_ylabel('Componente 2')\n",
    "ax.set_title(\"Componentes Principales\")\n",
    "\n",
    "# color_theme = np.array([\"blue\", \"green\", \"orange\"]) \n",
    "ax.scatter (x = X['importance_same_religion'], y = X['importance_same_race'],\n",
    "c=X['Kmeans_Clusters'])\n",
    "\n",
    "plt.show()"
   ]
  },
  {
   "cell_type": "code",
   "execution_count": 78,
   "metadata": {},
   "outputs": [],
   "source": [
    "from sklearn.decomposition import PCA\n",
    "\n",
    "pca = PCA(n_components=2)\n",
    "\n",
    "pca_dating = pca.fit_transform(X_norm) \n",
    "pca_result = pd.DataFrame (data=pca_dating, columns=['Componente_1', 'Componente_2']) \n",
    "\n",
    "pca_result_clusters = pd.concat([pca_result, X[['Kmeans_Clusters']]], axis=1)"
   ]
  },
  {
   "cell_type": "code",
   "execution_count": 79,
   "metadata": {},
   "outputs": [
    {
     "data": {
      "text/html": [
       "<div>\n",
       "<style scoped>\n",
       "    .dataframe tbody tr th:only-of-type {\n",
       "        vertical-align: middle;\n",
       "    }\n",
       "\n",
       "    .dataframe tbody tr th {\n",
       "        vertical-align: top;\n",
       "    }\n",
       "\n",
       "    .dataframe thead th {\n",
       "        text-align: right;\n",
       "    }\n",
       "</style>\n",
       "<table border=\"1\" class=\"dataframe\">\n",
       "  <thead>\n",
       "    <tr style=\"text-align: right;\">\n",
       "      <th></th>\n",
       "      <th>Componente_1</th>\n",
       "      <th>Componente_2</th>\n",
       "      <th>Kmeans_Clusters</th>\n",
       "    </tr>\n",
       "  </thead>\n",
       "  <tbody>\n",
       "    <tr>\n",
       "      <th>0</th>\n",
       "      <td>0.876944</td>\n",
       "      <td>0.274413</td>\n",
       "      <td>2</td>\n",
       "    </tr>\n",
       "    <tr>\n",
       "      <th>1</th>\n",
       "      <td>-0.268322</td>\n",
       "      <td>0.346271</td>\n",
       "      <td>2</td>\n",
       "    </tr>\n",
       "    <tr>\n",
       "      <th>2</th>\n",
       "      <td>0.216114</td>\n",
       "      <td>0.691571</td>\n",
       "      <td>2</td>\n",
       "    </tr>\n",
       "    <tr>\n",
       "      <th>3</th>\n",
       "      <td>1.518323</td>\n",
       "      <td>0.380873</td>\n",
       "      <td>2</td>\n",
       "    </tr>\n",
       "    <tr>\n",
       "      <th>4</th>\n",
       "      <td>1.692165</td>\n",
       "      <td>-0.634916</td>\n",
       "      <td>0</td>\n",
       "    </tr>\n",
       "  </tbody>\n",
       "</table>\n",
       "</div>"
      ],
      "text/plain": [
       "   Componente_1  Componente_2  Kmeans_Clusters\n",
       "0      0.876944      0.274413                2\n",
       "1     -0.268322      0.346271                2\n",
       "2      0.216114      0.691571                2\n",
       "3      1.518323      0.380873                2\n",
       "4      1.692165     -0.634916                0"
      ]
     },
     "execution_count": 79,
     "metadata": {},
     "output_type": "execute_result"
    }
   ],
   "source": [
    "pca_result_clusters.head()"
   ]
  },
  {
   "cell_type": "code",
   "execution_count": 80,
   "metadata": {},
   "outputs": [
    {
     "data": {
      "image/png": "[encoded data removed]",
      "text/plain": [
       "<Figure size 600x600 with 1 Axes>"
      ]
     },
     "metadata": {},
     "output_type": "display_data"
    }
   ],
   "source": [
    "import numpy as np\n",
    "fig = plt.figure(figsize = (6,6))\n",
    "\n",
    "ax = fig.add_subplot (1,1,1)\n",
    "ax.set_xlabel('Componente 1')\n",
    "ax.set_ylabel('Componente 2')\n",
    "ax.set_title(\"Componentes Principales\")\n",
    "\n",
    "# color_theme = np.array([\"blue\", \"green\", \"orange\"]) \n",
    "ax.scatter (x = pca_result_clusters['Componente_1'], y = pca_result_clusters['Componente_2'],\n",
    "c=pca_result_clusters['Kmeans_Clusters'])\n",
    "\n",
    "plt.show()"
   ]
  },
  {
   "attachments": {},
   "cell_type": "markdown",
   "metadata": {},
   "source": [
    "## Clusters"
   ]
  },
  {
   "cell_type": "code",
   "execution_count": 81,
   "metadata": {},
   "outputs": [],
   "source": [
    "X['MATCH'] = y"
   ]
  },
  {
   "cell_type": "code",
   "execution_count": 82,
   "metadata": {},
   "outputs": [
    {
     "data": {
      "text/html": [
       "<div>\n",
       "<style scoped>\n",
       "    .dataframe tbody tr th:only-of-type {\n",
       "        vertical-align: middle;\n",
       "    }\n",
       "\n",
       "    .dataframe tbody tr th {\n",
       "        vertical-align: top;\n",
       "    }\n",
       "\n",
       "    .dataframe thead th {\n",
       "        text-align: right;\n",
       "    }\n",
       "</style>\n",
       "<table border=\"1\" class=\"dataframe\">\n",
       "  <thead>\n",
       "    <tr style=\"text-align: right;\">\n",
       "      <th></th>\n",
       "      <th>wave</th>\n",
       "      <th>importance_same_race</th>\n",
       "      <th>importance_same_religion</th>\n",
       "      <th>pref_o_attractive</th>\n",
       "      <th>pref_o_sincere</th>\n",
       "      <th>pref_o_intelligence</th>\n",
       "      <th>pref_o_funny</th>\n",
       "      <th>pref_o_ambitious</th>\n",
       "      <th>pref_o_shared_interests</th>\n",
       "      <th>attractive_o</th>\n",
       "      <th>...</th>\n",
       "      <th>race_European/Caucasian-American</th>\n",
       "      <th>race_Latino/Hispanic American</th>\n",
       "      <th>race_Other</th>\n",
       "      <th>race_o_Black/African American</th>\n",
       "      <th>race_o_European/Caucasian-American</th>\n",
       "      <th>race_o_Latino/Hispanic American</th>\n",
       "      <th>race_o_Other</th>\n",
       "      <th>samerace_1</th>\n",
       "      <th>Kmeans_Clusters</th>\n",
       "      <th>MATCH</th>\n",
       "    </tr>\n",
       "  </thead>\n",
       "  <tbody>\n",
       "    <tr>\n",
       "      <th>0</th>\n",
       "      <td>1.0</td>\n",
       "      <td>2.0</td>\n",
       "      <td>4.0</td>\n",
       "      <td>35.0</td>\n",
       "      <td>20.0</td>\n",
       "      <td>20.0</td>\n",
       "      <td>20.0</td>\n",
       "      <td>0.0</td>\n",
       "      <td>5.0</td>\n",
       "      <td>6.0</td>\n",
       "      <td>...</td>\n",
       "      <td>0</td>\n",
       "      <td>0</td>\n",
       "      <td>0</td>\n",
       "      <td>0</td>\n",
       "      <td>1</td>\n",
       "      <td>0</td>\n",
       "      <td>0</td>\n",
       "      <td>0</td>\n",
       "      <td>2</td>\n",
       "      <td>0</td>\n",
       "    </tr>\n",
       "    <tr>\n",
       "      <th>1</th>\n",
       "      <td>1.0</td>\n",
       "      <td>2.0</td>\n",
       "      <td>4.0</td>\n",
       "      <td>60.0</td>\n",
       "      <td>0.0</td>\n",
       "      <td>0.0</td>\n",
       "      <td>40.0</td>\n",
       "      <td>0.0</td>\n",
       "      <td>0.0</td>\n",
       "      <td>7.0</td>\n",
       "      <td>...</td>\n",
       "      <td>0</td>\n",
       "      <td>0</td>\n",
       "      <td>0</td>\n",
       "      <td>0</td>\n",
       "      <td>1</td>\n",
       "      <td>0</td>\n",
       "      <td>0</td>\n",
       "      <td>0</td>\n",
       "      <td>2</td>\n",
       "      <td>0</td>\n",
       "    </tr>\n",
       "    <tr>\n",
       "      <th>2</th>\n",
       "      <td>1.0</td>\n",
       "      <td>2.0</td>\n",
       "      <td>4.0</td>\n",
       "      <td>30.0</td>\n",
       "      <td>5.0</td>\n",
       "      <td>15.0</td>\n",
       "      <td>40.0</td>\n",
       "      <td>5.0</td>\n",
       "      <td>5.0</td>\n",
       "      <td>7.0</td>\n",
       "      <td>...</td>\n",
       "      <td>0</td>\n",
       "      <td>0</td>\n",
       "      <td>0</td>\n",
       "      <td>0</td>\n",
       "      <td>1</td>\n",
       "      <td>0</td>\n",
       "      <td>0</td>\n",
       "      <td>0</td>\n",
       "      <td>2</td>\n",
       "      <td>1</td>\n",
       "    </tr>\n",
       "    <tr>\n",
       "      <th>3</th>\n",
       "      <td>1.0</td>\n",
       "      <td>2.0</td>\n",
       "      <td>4.0</td>\n",
       "      <td>30.0</td>\n",
       "      <td>10.0</td>\n",
       "      <td>20.0</td>\n",
       "      <td>10.0</td>\n",
       "      <td>10.0</td>\n",
       "      <td>20.0</td>\n",
       "      <td>8.0</td>\n",
       "      <td>...</td>\n",
       "      <td>0</td>\n",
       "      <td>0</td>\n",
       "      <td>0</td>\n",
       "      <td>0</td>\n",
       "      <td>0</td>\n",
       "      <td>1</td>\n",
       "      <td>0</td>\n",
       "      <td>0</td>\n",
       "      <td>2</td>\n",
       "      <td>1</td>\n",
       "    </tr>\n",
       "    <tr>\n",
       "      <th>4</th>\n",
       "      <td>1.0</td>\n",
       "      <td>2.0</td>\n",
       "      <td>4.0</td>\n",
       "      <td>50.0</td>\n",
       "      <td>0.0</td>\n",
       "      <td>30.0</td>\n",
       "      <td>10.0</td>\n",
       "      <td>0.0</td>\n",
       "      <td>10.0</td>\n",
       "      <td>7.0</td>\n",
       "      <td>...</td>\n",
       "      <td>0</td>\n",
       "      <td>0</td>\n",
       "      <td>0</td>\n",
       "      <td>0</td>\n",
       "      <td>1</td>\n",
       "      <td>0</td>\n",
       "      <td>0</td>\n",
       "      <td>0</td>\n",
       "      <td>0</td>\n",
       "      <td>0</td>\n",
       "    </tr>\n",
       "  </tbody>\n",
       "</table>\n",
       "<p>5 rows × 63 columns</p>\n",
       "</div>"
      ],
      "text/plain": [
       "   wave  importance_same_race  importance_same_religion  pref_o_attractive  \\\n",
       "0   1.0                   2.0                       4.0               35.0   \n",
       "1   1.0                   2.0                       4.0               60.0   \n",
       "2   1.0                   2.0                       4.0               30.0   \n",
       "3   1.0                   2.0                       4.0               30.0   \n",
       "4   1.0                   2.0                       4.0               50.0   \n",
       "\n",
       "   pref_o_sincere  pref_o_intelligence  pref_o_funny  pref_o_ambitious  \\\n",
       "0            20.0                 20.0          20.0               0.0   \n",
       "1             0.0                  0.0          40.0               0.0   \n",
       "2             5.0                 15.0          40.0               5.0   \n",
       "3            10.0                 20.0          10.0              10.0   \n",
       "4             0.0                 30.0          10.0               0.0   \n",
       "\n",
       "   pref_o_shared_interests  attractive_o  ...  \\\n",
       "0                      5.0           6.0  ...   \n",
       "1                      0.0           7.0  ...   \n",
       "2                      5.0           7.0  ...   \n",
       "3                     20.0           8.0  ...   \n",
       "4                     10.0           7.0  ...   \n",
       "\n",
       "   race_European/Caucasian-American  race_Latino/Hispanic American  \\\n",
       "0                                 0                              0   \n",
       "1                                 0                              0   \n",
       "2                                 0                              0   \n",
       "3                                 0                              0   \n",
       "4                                 0                              0   \n",
       "\n",
       "   race_Other  race_o_Black/African American  \\\n",
       "0           0                              0   \n",
       "1           0                              0   \n",
       "2           0                              0   \n",
       "3           0                              0   \n",
       "4           0                              0   \n",
       "\n",
       "   race_o_European/Caucasian-American  race_o_Latino/Hispanic American  \\\n",
       "0                                   1                                0   \n",
       "1                                   1                                0   \n",
       "2                                   1                                0   \n",
       "3                                   0                                1   \n",
       "4                                   1                                0   \n",
       "\n",
       "   race_o_Other  samerace_1  Kmeans_Clusters  MATCH  \n",
       "0             0           0                2      0  \n",
       "1             0           0                2      0  \n",
       "2             0           0                2      1  \n",
       "3             0           0                2      1  \n",
       "4             0           0                0      0  \n",
       "\n",
       "[5 rows x 63 columns]"
      ]
     },
     "execution_count": 82,
     "metadata": {},
     "output_type": "execute_result"
    }
   ],
   "source": [
    "X.head()"
   ]
  },
  {
   "cell_type": "code",
   "execution_count": 83,
   "metadata": {},
   "outputs": [],
   "source": [
    "#filtrar el dataset de acuerdo al cluster asignado\n",
    "cluster0 = X.loc[X['Kmeans_Clusters']==0]\n",
    "cluster1 = X.loc[X['Kmeans_Clusters']==1]\n",
    "cluster2 = X.loc[X['Kmeans_Clusters']==2]"
   ]
  },
  {
   "cell_type": "code",
   "execution_count": 84,
   "metadata": {},
   "outputs": [
    {
     "data": {
      "text/plain": [
       "0    1659\n",
       "1    1087\n",
       "Name: gender_male, dtype: int64"
      ]
     },
     "execution_count": 84,
     "metadata": {},
     "output_type": "execute_result"
    }
   ],
   "source": [
    "cluster0['gender_male'].value_counts()"
   ]
  },
  {
   "cell_type": "code",
   "execution_count": 85,
   "metadata": {},
   "outputs": [
    {
     "data": {
      "text/plain": [
       "0    3517\n",
       "1    1456\n",
       "Name: gender_male, dtype: int64"
      ]
     },
     "execution_count": 85,
     "metadata": {},
     "output_type": "execute_result"
    }
   ],
   "source": [
    "cluster1['gender_male'].value_counts()"
   ]
  },
  {
   "cell_type": "code",
   "execution_count": 86,
   "metadata": {},
   "outputs": [
    {
     "data": {
      "text/plain": [
       "1    3273\n",
       "0     698\n",
       "Name: gender_male, dtype: int64"
      ]
     },
     "execution_count": 86,
     "metadata": {},
     "output_type": "execute_result"
    }
   ],
   "source": [
    "cluster2['gender_male'].value_counts()"
   ]
  },
  {
   "cell_type": "code",
   "execution_count": 87,
   "metadata": {},
   "outputs": [
    {
     "data": {
      "text/plain": [
       "0    2191\n",
       "1     555\n",
       "Name: MATCH, dtype: int64"
      ]
     },
     "execution_count": 87,
     "metadata": {},
     "output_type": "execute_result"
    }
   ],
   "source": [
    "cluster0['MATCH'].value_counts()"
   ]
  },
  {
   "cell_type": "code",
   "execution_count": 88,
   "metadata": {},
   "outputs": [
    {
     "data": {
      "text/plain": [
       "1    3088\n",
       "0    1885\n",
       "Name: MATCH, dtype: int64"
      ]
     },
     "execution_count": 88,
     "metadata": {},
     "output_type": "execute_result"
    }
   ],
   "source": [
    "cluster1['MATCH'].value_counts()"
   ]
  },
  {
   "cell_type": "code",
   "execution_count": 89,
   "metadata": {},
   "outputs": [
    {
     "data": {
      "text/plain": [
       "1    2202\n",
       "0    1769\n",
       "Name: MATCH, dtype: int64"
      ]
     },
     "execution_count": 89,
     "metadata": {},
     "output_type": "execute_result"
    }
   ],
   "source": [
    "cluster2['MATCH'].value_counts()"
   ]
  },
  {
   "cell_type": "code",
   "execution_count": 90,
   "metadata": {},
   "outputs": [
    {
     "data": {
      "image/png": "[encoded data removed]",
      "text/plain": [
       "<Figure size 600x600 with 3 Axes>"
      ]
     },
     "metadata": {},
     "output_type": "display_data"
    }
   ],
   "source": [
    "fig, axs = plt.subplots(nrows=3, ncols=1, figsize=(6,6))\n",
    "\n",
    "axs[0].hist(cluster0['like'], bins=10, color='blue', alpha=0.5)\n",
    "axs[0].set_title('Cluster 0')\n",
    "axs[1].hist(cluster1['like'], bins=10, color='green', alpha=0.5)\n",
    "axs[1].set_title('Cluster 1')\n",
    "axs[2].hist(cluster2['like'], bins=10, color='red', alpha=0.5)\n",
    "axs[2].set_title('Cluster 2')\n",
    "\n",
    "fig.tight_layout()\n",
    "plt.show()"
   ]
  },
  {
   "cell_type": "code",
   "execution_count": 91,
   "metadata": {},
   "outputs": [
    {
     "data": {
      "text/plain": [
       "count    2746.000000\n",
       "mean        4.955754\n",
       "std         1.602295\n",
       "min         0.000000\n",
       "25%         4.000000\n",
       "50%         5.000000\n",
       "75%         6.000000\n",
       "max         9.000000\n",
       "Name: like, dtype: float64"
      ]
     },
     "execution_count": 91,
     "metadata": {},
     "output_type": "execute_result"
    }
   ],
   "source": [
    "cluster0['like'].describe()"
   ]
  },
  {
   "cell_type": "code",
   "execution_count": 92,
   "metadata": {},
   "outputs": [
    {
     "data": {
      "text/plain": [
       "count    4973.000000\n",
       "mean        7.327307\n",
       "std         1.396901\n",
       "min         1.000000\n",
       "25%         7.000000\n",
       "50%         7.000000\n",
       "75%         8.000000\n",
       "max        10.000000\n",
       "Name: like, dtype: float64"
      ]
     },
     "execution_count": 92,
     "metadata": {},
     "output_type": "execute_result"
    }
   ],
   "source": [
    "cluster1['like'].describe()"
   ]
  },
  {
   "cell_type": "code",
   "execution_count": 93,
   "metadata": {},
   "outputs": [
    {
     "data": {
      "text/plain": [
       "count    3971.000000\n",
       "mean        6.887686\n",
       "std         1.406212\n",
       "min         1.000000\n",
       "25%         6.000000\n",
       "50%         7.000000\n",
       "75%         8.000000\n",
       "max        10.000000\n",
       "Name: like, dtype: float64"
      ]
     },
     "execution_count": 93,
     "metadata": {},
     "output_type": "execute_result"
    }
   ],
   "source": [
    "cluster2['like'].describe()"
   ]
  },
  {
   "cell_type": "code",
   "execution_count": 94,
   "metadata": {},
   "outputs": [
    {
     "data": {
      "image/png": "[encoded data removed]",
      "text/plain": [
       "<Figure size 600x600 with 3 Axes>"
      ]
     },
     "metadata": {},
     "output_type": "display_data"
    }
   ],
   "source": [
    "fig, axs = plt.subplots(nrows=3, ncols=1, figsize=(6,6))\n",
    "\n",
    "axs[0].hist(cluster0['guess_prob_liked'], bins=10, color='blue', alpha=0.5)\n",
    "axs[0].set_title('Cluster 0')\n",
    "axs[1].hist(cluster1['guess_prob_liked'], bins=10, color='green', alpha=0.5)\n",
    "axs[1].set_title('Cluster 1')\n",
    "axs[2].hist(cluster2['guess_prob_liked'], bins=10, color='red', alpha=0.5)\n",
    "axs[2].set_title('Cluster 2')\n",
    "\n",
    "fig.tight_layout()\n",
    "plt.show()"
   ]
  },
  {
   "cell_type": "code",
   "execution_count": 95,
   "metadata": {},
   "outputs": [
    {
     "data": {
      "text/plain": [
       "count    2746.000000\n",
       "mean        4.220867\n",
       "std         1.841763\n",
       "min         0.000000\n",
       "25%         3.000000\n",
       "50%         5.000000\n",
       "75%         5.000000\n",
       "max        10.000000\n",
       "Name: guess_prob_liked, dtype: float64"
      ]
     },
     "execution_count": 95,
     "metadata": {},
     "output_type": "execute_result"
    }
   ],
   "source": [
    "cluster0['guess_prob_liked'].describe()"
   ]
  },
  {
   "cell_type": "code",
   "execution_count": 96,
   "metadata": {},
   "outputs": [
    {
     "data": {
      "text/plain": [
       "count    4973.000000\n",
       "mean        6.414337\n",
       "std         1.931032\n",
       "min         0.000000\n",
       "25%         5.000000\n",
       "50%         6.000000\n",
       "75%         8.000000\n",
       "max        10.000000\n",
       "Name: guess_prob_liked, dtype: float64"
      ]
     },
     "execution_count": 96,
     "metadata": {},
     "output_type": "execute_result"
    }
   ],
   "source": [
    "cluster1['guess_prob_liked'].describe()"
   ]
  },
  {
   "cell_type": "code",
   "execution_count": 97,
   "metadata": {},
   "outputs": [
    {
     "data": {
      "text/plain": [
       "count    3971.000000\n",
       "mean        5.826366\n",
       "std         1.965927\n",
       "min         0.000000\n",
       "25%         5.000000\n",
       "50%         6.000000\n",
       "75%         7.000000\n",
       "max        10.000000\n",
       "Name: guess_prob_liked, dtype: float64"
      ]
     },
     "execution_count": 97,
     "metadata": {},
     "output_type": "execute_result"
    }
   ],
   "source": [
    "cluster2['guess_prob_liked'].describe()"
   ]
  },
  {
   "cell_type": "code",
   "execution_count": 101,
   "metadata": {},
   "outputs": [
    {
     "data": {
      "image/png": "[encoded data removed]",
      "text/plain": [
       "<Figure size 600x600 with 3 Axes>"
      ]
     },
     "metadata": {},
     "output_type": "display_data"
    }
   ],
   "source": [
    "fig, axs = plt.subplots(nrows=3, ncols=1, figsize=(6,6))\n",
    "\n",
    "axs[0].hist(cluster0['interests_correlate'], bins=10, color='blue', alpha=0.5)\n",
    "axs[0].set_title('Cluster 0')\n",
    "axs[1].hist(cluster1['interests_correlate'], bins=10, color='green', alpha=0.5)\n",
    "axs[1].set_title('Cluster 1')\n",
    "axs[2].hist(cluster2['interests_correlate'], bins=10, color='red', alpha=0.5)\n",
    "axs[2].set_title('Cluster 2')\n",
    "\n",
    "fig.tight_layout()\n",
    "plt.show()"
   ]
  },
  {
   "cell_type": "code",
   "execution_count": 102,
   "metadata": {},
   "outputs": [
    {
     "data": {
      "text/plain": [
       "count    2746.000000\n",
       "mean        0.244483\n",
       "std         0.302188\n",
       "min        -0.700000\n",
       "25%         0.040000\n",
       "50%         0.280000\n",
       "75%         0.480000\n",
       "max         0.910000\n",
       "Name: interests_correlate, dtype: float64"
      ]
     },
     "execution_count": 102,
     "metadata": {},
     "output_type": "execute_result"
    }
   ],
   "source": [
    "cluster0['interests_correlate'].describe()"
   ]
  },
  {
   "cell_type": "code",
   "execution_count": 103,
   "metadata": {},
   "outputs": [
    {
     "data": {
      "text/plain": [
       "count    4973.000000\n",
       "mean        0.230179\n",
       "std         0.306742\n",
       "min        -0.830000\n",
       "25%         0.020000\n",
       "50%         0.260000\n",
       "75%         0.480000\n",
       "max         0.910000\n",
       "Name: interests_correlate, dtype: float64"
      ]
     },
     "execution_count": 103,
     "metadata": {},
     "output_type": "execute_result"
    }
   ],
   "source": [
    "cluster1['interests_correlate'].describe()"
   ]
  },
  {
   "cell_type": "code",
   "execution_count": 104,
   "metadata": {},
   "outputs": [
    {
     "data": {
      "text/plain": [
       "count    3971.000000\n",
       "mean        0.152639\n",
       "std         0.298276\n",
       "min        -0.730000\n",
       "25%        -0.060000\n",
       "50%         0.170000\n",
       "75%         0.370000\n",
       "max         0.850000\n",
       "Name: interests_correlate, dtype: float64"
      ]
     },
     "execution_count": 104,
     "metadata": {},
     "output_type": "execute_result"
    }
   ],
   "source": [
    "cluster2['interests_correlate'].describe()"
   ]
  },
  {
   "attachments": {},
   "cell_type": "markdown",
   "metadata": {},
   "source": [
    "## Overview of the clusters."
   ]
  },
  {
   "attachments": {},
   "cell_type": "markdown",
   "metadata": {},
   "source": [
    "+ En el cluster 0 hay 3947 personas. El 16.1% son mujeres y el 83.8% son hombres. El 55,7% hicieron match y el 44,3% no hicieron match con su pareja del evento. En el cluster 0, la media de que tan probable cree que sea gustarle a su pareja el día del evento es de 5,9 en una escala de 1 a 10. En el cluster 0, la media de cuánto le gustó su pareja en una escala de 1 a 10 fue de 6,9.\n",
    "+ En el cluster 1 hay 3518 personas. El 63,8% son mujeres y el 36,2% son hombres. El 24,6% match y 75,4% no hicieron match con su cita del evento. En el cluster 1, la media de que tan probable cree que sea gustarle a su pareja el día del evento es de 4,4 en una escala de 1 a 10. En el cluster 1, la media de cuánto le gustó su pareja en una escala de 1 a 10 fue de 5,3.\n",
    "+ En el cluster 2 hay 4226 personas. El 70% son mujeres y el 30% son hombres. El 65,7% hicieron match y el 34,3% no hicieron match. En el cluster 2, la media de que tan probable cree que sea gustarle a su pareja el día del evento es de 6,6 en una escala de 1 a 10. En el cluster 2, la media de cuánto le gustó su pareja en una escala de 1 a 10 fue de 7,5."
   ]
  }
 ],
 "metadata": {
  "kernelspec": {
   "display_name": "homeworks",
   "language": "python",
   "name": "python3"
  },
  "language_info": {
   "codemirror_mode": {
    "name": "ipython",
    "version": 3
   },
   "file_extension": ".py",
   "mimetype": "text/x-python",
   "name": "python",
   "nbconvert_exporter": "python",
   "pygments_lexer": "ipython3",
   "version": "3.11.2"
  },
  "orig_nbformat": 4
 },
 "nbformat": 4,
 "nbformat_minor": 2
}
